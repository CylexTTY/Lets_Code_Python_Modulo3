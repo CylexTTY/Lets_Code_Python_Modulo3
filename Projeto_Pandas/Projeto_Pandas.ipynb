{
 "cells": [
  {
   "cell_type": "markdown",
   "metadata": {},
   "source": [
    "# História das Olimpíadas  \n",
    "_(créditos ao prof. Rafael Moreira)_\n",
    "\n",
    "Após um ano de atraso por conta da pandemia de Covid-19, as atenções do mundo todo se voltaram para Tóquio, no Japão, para acompanhar mais uma edição das Olimpíadas.\n",
    "\n",
    "No Brasil não foi diferente, e muitos se uniram para torcer por nossos atletas em diferentes competições, tanto em esportes onde o Brasil já possui tradição quanto em novos esportes.\n",
    "\n",
    "Vamos aproveitar o clima para estudar um pouco das Olimpíadas! Utilizaremos um _dataset_ com 120 anos de dados históricos das Olimpíadas, cobrindo desde os jogos de Atenas 1896 até Rio 2016. \n",
    "\n",
    "Faça o download do _dataset_ em https://www.kaggle.com/heesoo37/120-years-of-olympic-history-athletes-and-results e carregue o arquivo ```athlete_events.csv``` para um DataFrame utilizando Pandas. Aproveite para explorar seu DataFrame e se familiarizar com a sua estrutura. \n",
    "\n",
    "OBS: Fique à vontade para acrescentar mais células Python conforme necessário em qualquer etapa do exercício."
   ]
  },
  {
   "cell_type": "markdown",
   "metadata": {},
   "source": [
    "## 1. O Brasil nas Olimpíadas\n",
    "\n",
    "Vamos começar estudando o desempenho do nossos próprio país. Gere um DataFrame novo contendo apenas as informações sobre atletas brasileiros."
   ]
  },
  {
   "cell_type": "code",
   "execution_count": 471,
   "metadata": {},
   "outputs": [],
   "source": [
    "import pandas as pd\n",
    "\n",
    "df_olimpiadas = pd.read_csv('athlete_events.csv')"
   ]
  },
  {
   "cell_type": "code",
   "execution_count": 472,
   "metadata": {},
   "outputs": [
    {
     "data": {
      "text/html": [
       "<div>\n",
       "<style scoped>\n",
       "    .dataframe tbody tr th:only-of-type {\n",
       "        vertical-align: middle;\n",
       "    }\n",
       "\n",
       "    .dataframe tbody tr th {\n",
       "        vertical-align: top;\n",
       "    }\n",
       "\n",
       "    .dataframe thead th {\n",
       "        text-align: right;\n",
       "    }\n",
       "</style>\n",
       "<table border=\"1\" class=\"dataframe\">\n",
       "  <thead>\n",
       "    <tr style=\"text-align: right;\">\n",
       "      <th></th>\n",
       "      <th>ID</th>\n",
       "      <th>Name</th>\n",
       "      <th>Sex</th>\n",
       "      <th>Age</th>\n",
       "      <th>Height</th>\n",
       "      <th>Weight</th>\n",
       "      <th>Team</th>\n",
       "      <th>NOC</th>\n",
       "      <th>Games</th>\n",
       "      <th>Year</th>\n",
       "      <th>Season</th>\n",
       "      <th>City</th>\n",
       "      <th>Sport</th>\n",
       "      <th>Event</th>\n",
       "      <th>Medal</th>\n",
       "    </tr>\n",
       "  </thead>\n",
       "  <tbody>\n",
       "    <tr>\n",
       "      <th>665</th>\n",
       "      <td>386</td>\n",
       "      <td>Alexandre Abeid</td>\n",
       "      <td>M</td>\n",
       "      <td>22.0</td>\n",
       "      <td>194.0</td>\n",
       "      <td>92.0</td>\n",
       "      <td>Brazil</td>\n",
       "      <td>BRA</td>\n",
       "      <td>1972 Summer</td>\n",
       "      <td>1972</td>\n",
       "      <td>Summer</td>\n",
       "      <td>Munich</td>\n",
       "      <td>Volleyball</td>\n",
       "      <td>Volleyball Men's Volleyball</td>\n",
       "      <td>NaN</td>\n",
       "    </tr>\n",
       "    <tr>\n",
       "      <th>666</th>\n",
       "      <td>386</td>\n",
       "      <td>Alexandre Abeid</td>\n",
       "      <td>M</td>\n",
       "      <td>26.0</td>\n",
       "      <td>194.0</td>\n",
       "      <td>92.0</td>\n",
       "      <td>Brazil</td>\n",
       "      <td>BRA</td>\n",
       "      <td>1976 Summer</td>\n",
       "      <td>1976</td>\n",
       "      <td>Summer</td>\n",
       "      <td>Montreal</td>\n",
       "      <td>Volleyball</td>\n",
       "      <td>Volleyball Men's Volleyball</td>\n",
       "      <td>NaN</td>\n",
       "    </tr>\n",
       "    <tr>\n",
       "      <th>668</th>\n",
       "      <td>388</td>\n",
       "      <td>Abel Carlos da Silva Braga</td>\n",
       "      <td>M</td>\n",
       "      <td>19.0</td>\n",
       "      <td>190.0</td>\n",
       "      <td>73.0</td>\n",
       "      <td>Brazil</td>\n",
       "      <td>BRA</td>\n",
       "      <td>1972 Summer</td>\n",
       "      <td>1972</td>\n",
       "      <td>Summer</td>\n",
       "      <td>Munich</td>\n",
       "      <td>Football</td>\n",
       "      <td>Football Men's Football</td>\n",
       "      <td>NaN</td>\n",
       "    </tr>\n",
       "    <tr>\n",
       "      <th>781</th>\n",
       "      <td>451</td>\n",
       "      <td>Diana Monteiro Abla</td>\n",
       "      <td>F</td>\n",
       "      <td>21.0</td>\n",
       "      <td>175.0</td>\n",
       "      <td>75.0</td>\n",
       "      <td>Brazil</td>\n",
       "      <td>BRA</td>\n",
       "      <td>2016 Summer</td>\n",
       "      <td>2016</td>\n",
       "      <td>Summer</td>\n",
       "      <td>Rio de Janeiro</td>\n",
       "      <td>Water Polo</td>\n",
       "      <td>Water Polo Women's Water Polo</td>\n",
       "      <td>NaN</td>\n",
       "    </tr>\n",
       "    <tr>\n",
       "      <th>1005</th>\n",
       "      <td>565</td>\n",
       "      <td>Glauclio Serro Abreu</td>\n",
       "      <td>M</td>\n",
       "      <td>26.0</td>\n",
       "      <td>185.0</td>\n",
       "      <td>75.0</td>\n",
       "      <td>Brazil</td>\n",
       "      <td>BRA</td>\n",
       "      <td>2004 Summer</td>\n",
       "      <td>2004</td>\n",
       "      <td>Summer</td>\n",
       "      <td>Athina</td>\n",
       "      <td>Boxing</td>\n",
       "      <td>Boxing Men's Middleweight</td>\n",
       "      <td>NaN</td>\n",
       "    </tr>\n",
       "  </tbody>\n",
       "</table>\n",
       "</div>"
      ],
      "text/plain": [
       "       ID                        Name Sex   Age  Height  Weight    Team  NOC  \\\n",
       "665   386             Alexandre Abeid   M  22.0   194.0    92.0  Brazil  BRA   \n",
       "666   386             Alexandre Abeid   M  26.0   194.0    92.0  Brazil  BRA   \n",
       "668   388  Abel Carlos da Silva Braga   M  19.0   190.0    73.0  Brazil  BRA   \n",
       "781   451         Diana Monteiro Abla   F  21.0   175.0    75.0  Brazil  BRA   \n",
       "1005  565        Glauclio Serro Abreu   M  26.0   185.0    75.0  Brazil  BRA   \n",
       "\n",
       "            Games  Year  Season            City       Sport  \\\n",
       "665   1972 Summer  1972  Summer          Munich  Volleyball   \n",
       "666   1976 Summer  1976  Summer        Montreal  Volleyball   \n",
       "668   1972 Summer  1972  Summer          Munich    Football   \n",
       "781   2016 Summer  2016  Summer  Rio de Janeiro  Water Polo   \n",
       "1005  2004 Summer  2004  Summer          Athina      Boxing   \n",
       "\n",
       "                              Event Medal  \n",
       "665     Volleyball Men's Volleyball   NaN  \n",
       "666     Volleyball Men's Volleyball   NaN  \n",
       "668         Football Men's Football   NaN  \n",
       "781   Water Polo Women's Water Polo   NaN  \n",
       "1005      Boxing Men's Middleweight   NaN  "
      ]
     },
     "execution_count": 472,
     "metadata": {},
     "output_type": "execute_result"
    }
   ],
   "source": [
    "df_br_geral = df_olimpiadas[df_olimpiadas['NOC'] == 'BRA']\n",
    "df_br_geral.head()"
   ]
  },
  {
   "cell_type": "markdown",
   "metadata": {},
   "source": [
    "### Medalhistas\n",
    "\n",
    "Vamos focar um pouco nos casos de sucesso do Brasil. Use o seu DataFrame anterior para filtrar apenas informações sobre **medalhistas** brasileiros. \n",
    "\n",
    "**DICA:** observe como a coluna ```Medal``` é representada quando o atleta não ganhou medalha."
   ]
  },
  {
   "cell_type": "code",
   "execution_count": 473,
   "metadata": {},
   "outputs": [
    {
     "data": {
      "text/html": [
       "<div>\n",
       "<style scoped>\n",
       "    .dataframe tbody tr th:only-of-type {\n",
       "        vertical-align: middle;\n",
       "    }\n",
       "\n",
       "    .dataframe tbody tr th {\n",
       "        vertical-align: top;\n",
       "    }\n",
       "\n",
       "    .dataframe thead th {\n",
       "        text-align: right;\n",
       "    }\n",
       "</style>\n",
       "<table border=\"1\" class=\"dataframe\">\n",
       "  <thead>\n",
       "    <tr style=\"text-align: right;\">\n",
       "      <th></th>\n",
       "      <th>ID</th>\n",
       "      <th>Name</th>\n",
       "      <th>Sex</th>\n",
       "      <th>Age</th>\n",
       "      <th>Height</th>\n",
       "      <th>Weight</th>\n",
       "      <th>Team</th>\n",
       "      <th>NOC</th>\n",
       "      <th>Games</th>\n",
       "      <th>Year</th>\n",
       "      <th>Season</th>\n",
       "      <th>City</th>\n",
       "      <th>Sport</th>\n",
       "      <th>Event</th>\n",
       "      <th>Medal</th>\n",
       "    </tr>\n",
       "  </thead>\n",
       "  <tbody>\n",
       "    <tr>\n",
       "      <th>1651</th>\n",
       "      <td>918</td>\n",
       "      <td>Ademir Roque Kaefer</td>\n",
       "      <td>M</td>\n",
       "      <td>24.0</td>\n",
       "      <td>179.0</td>\n",
       "      <td>74.0</td>\n",
       "      <td>Brazil</td>\n",
       "      <td>BRA</td>\n",
       "      <td>1984 Summer</td>\n",
       "      <td>1984</td>\n",
       "      <td>Summer</td>\n",
       "      <td>Los Angeles</td>\n",
       "      <td>Football</td>\n",
       "      <td>Football Men's Football</td>\n",
       "      <td>Silver</td>\n",
       "    </tr>\n",
       "    <tr>\n",
       "      <th>1652</th>\n",
       "      <td>918</td>\n",
       "      <td>Ademir Roque Kaefer</td>\n",
       "      <td>M</td>\n",
       "      <td>28.0</td>\n",
       "      <td>179.0</td>\n",
       "      <td>74.0</td>\n",
       "      <td>Brazil</td>\n",
       "      <td>BRA</td>\n",
       "      <td>1988 Summer</td>\n",
       "      <td>1988</td>\n",
       "      <td>Summer</td>\n",
       "      <td>Seoul</td>\n",
       "      <td>Football</td>\n",
       "      <td>Football Men's Football</td>\n",
       "      <td>Silver</td>\n",
       "    </tr>\n",
       "    <tr>\n",
       "      <th>1668</th>\n",
       "      <td>925</td>\n",
       "      <td>Adenzia Aparecida Ferreira da Silva</td>\n",
       "      <td>F</td>\n",
       "      <td>25.0</td>\n",
       "      <td>187.0</td>\n",
       "      <td>65.0</td>\n",
       "      <td>Brazil</td>\n",
       "      <td>BRA</td>\n",
       "      <td>2012 Summer</td>\n",
       "      <td>2012</td>\n",
       "      <td>Summer</td>\n",
       "      <td>London</td>\n",
       "      <td>Volleyball</td>\n",
       "      <td>Volleyball Women's Volleyball</td>\n",
       "      <td>Gold</td>\n",
       "    </tr>\n",
       "    <tr>\n",
       "      <th>1733</th>\n",
       "      <td>966</td>\n",
       "      <td>Daniel Adler</td>\n",
       "      <td>M</td>\n",
       "      <td>26.0</td>\n",
       "      <td>180.0</td>\n",
       "      <td>72.0</td>\n",
       "      <td>Brazil</td>\n",
       "      <td>BRA</td>\n",
       "      <td>1984 Summer</td>\n",
       "      <td>1984</td>\n",
       "      <td>Summer</td>\n",
       "      <td>Los Angeles</td>\n",
       "      <td>Sailing</td>\n",
       "      <td>Sailing Mixed Three Person Keelboat</td>\n",
       "      <td>Silver</td>\n",
       "    </tr>\n",
       "    <tr>\n",
       "      <th>1856</th>\n",
       "      <td>1020</td>\n",
       "      <td>Adriana Aparecida dos Santos</td>\n",
       "      <td>F</td>\n",
       "      <td>25.0</td>\n",
       "      <td>180.0</td>\n",
       "      <td>61.0</td>\n",
       "      <td>Brazil</td>\n",
       "      <td>BRA</td>\n",
       "      <td>1996 Summer</td>\n",
       "      <td>1996</td>\n",
       "      <td>Summer</td>\n",
       "      <td>Atlanta</td>\n",
       "      <td>Basketball</td>\n",
       "      <td>Basketball Women's Basketball</td>\n",
       "      <td>Silver</td>\n",
       "    </tr>\n",
       "  </tbody>\n",
       "</table>\n",
       "</div>"
      ],
      "text/plain": [
       "        ID                                 Name Sex   Age  Height  Weight  \\\n",
       "1651   918                  Ademir Roque Kaefer   M  24.0   179.0    74.0   \n",
       "1652   918                  Ademir Roque Kaefer   M  28.0   179.0    74.0   \n",
       "1668   925  Adenzia Aparecida Ferreira da Silva   F  25.0   187.0    65.0   \n",
       "1733   966                         Daniel Adler   M  26.0   180.0    72.0   \n",
       "1856  1020         Adriana Aparecida dos Santos   F  25.0   180.0    61.0   \n",
       "\n",
       "        Team  NOC        Games  Year  Season         City       Sport  \\\n",
       "1651  Brazil  BRA  1984 Summer  1984  Summer  Los Angeles    Football   \n",
       "1652  Brazil  BRA  1988 Summer  1988  Summer        Seoul    Football   \n",
       "1668  Brazil  BRA  2012 Summer  2012  Summer       London  Volleyball   \n",
       "1733  Brazil  BRA  1984 Summer  1984  Summer  Los Angeles     Sailing   \n",
       "1856  Brazil  BRA  1996 Summer  1996  Summer      Atlanta  Basketball   \n",
       "\n",
       "                                    Event   Medal  \n",
       "1651              Football Men's Football  Silver  \n",
       "1652              Football Men's Football  Silver  \n",
       "1668        Volleyball Women's Volleyball    Gold  \n",
       "1733  Sailing Mixed Three Person Keelboat  Silver  \n",
       "1856        Basketball Women's Basketball  Silver  "
      ]
     },
     "execution_count": 473,
     "metadata": {},
     "output_type": "execute_result"
    }
   ],
   "source": [
    "df_br = df_br_geral[~df_br_geral['Medal'].isna()]\n",
    "df_br.head()"
   ]
  },
  {
   "cell_type": "markdown",
   "metadata": {},
   "source": [
    "### Verão vs Inverno\n",
    "\n",
    "Você deve ter notado que temos duas categorias distintas de jogos olímpicos, representados pela estação: temos os jogos de verão e os jogos de inverno, que ocorrem de maneira intercalada.\n",
    "\n",
    "Agora que já conhecemos os medalhistas brasileiros, resposta: quantos atletas brasileiros receberam medalha nos jogos de verão e quantos receberam nos jogos de inverno?"
   ]
  },
  {
   "cell_type": "code",
   "execution_count": 474,
   "metadata": {},
   "outputs": [
    {
     "data": {
      "text/html": [
       "<div>\n",
       "<style scoped>\n",
       "    .dataframe tbody tr th:only-of-type {\n",
       "        vertical-align: middle;\n",
       "    }\n",
       "\n",
       "    .dataframe tbody tr th {\n",
       "        vertical-align: top;\n",
       "    }\n",
       "\n",
       "    .dataframe thead th {\n",
       "        text-align: right;\n",
       "    }\n",
       "</style>\n",
       "<table border=\"1\" class=\"dataframe\">\n",
       "  <thead>\n",
       "    <tr style=\"text-align: right;\">\n",
       "      <th></th>\n",
       "      <th>Season</th>\n",
       "      <th>Qtd_Med</th>\n",
       "    </tr>\n",
       "  </thead>\n",
       "  <tbody>\n",
       "    <tr>\n",
       "      <th>0</th>\n",
       "      <td>Summer</td>\n",
       "      <td>475</td>\n",
       "    </tr>\n",
       "  </tbody>\n",
       "</table>\n",
       "</div>"
      ],
      "text/plain": [
       "   Season  Qtd_Med\n",
       "0  Summer      475"
      ]
     },
     "execution_count": 474,
     "metadata": {},
     "output_type": "execute_result"
    }
   ],
   "source": [
    "df_br.groupby('Season')['Season'].count().reset_index(name='Qtd_Med')"
   ]
  },
  {
   "cell_type": "markdown",
   "metadata": {},
   "source": [
    "Os jogos de verão são bem mais populares do que os jogos de inverno no Brasil. Portanto, deste ponto em diante iremos focar apenas nos jogos de verão. Descarte de seu DataFrame os dados dos jogos de inverno.\n",
    "\n"
   ]
  },
  {
   "cell_type": "code",
   "execution_count": 475,
   "metadata": {},
   "outputs": [],
   "source": [
    "# Nao possuem medalhista de inverno, porém irei fazer o processo de remoção mesmo assim.\n",
    "df_br = df_br[df_br['Season'] == 'Summer']"
   ]
  },
  {
   "cell_type": "markdown",
   "metadata": {},
   "source": [
    "### Atletas do Brasil\n",
    "\n",
    "Vamos conhecer um pouco melhor nossos atletas. Descubra a altura e peso médio de nossos medalhistas."
   ]
  },
  {
   "cell_type": "code",
   "execution_count": 476,
   "metadata": {},
   "outputs": [
    {
     "data": {
      "text/plain": [
       "Height    182.5\n",
       "Weight     76.7\n",
       "dtype: float64"
      ]
     },
     "execution_count": 476,
     "metadata": {},
     "output_type": "execute_result"
    }
   ],
   "source": [
    "df_br.dropna(subset=['Height', 'Weight'])[['Height', 'Weight']].mean().round(1)"
   ]
  },
  {
   "cell_type": "markdown",
   "metadata": {},
   "source": [
    "Imaginamos que diferentes esportes podem beneficiar diferentes tipos físicos, certo? Então refaça a análise anterior, mas obtendo os valores médios **por esporte**."
   ]
  },
  {
   "cell_type": "code",
   "execution_count": 477,
   "metadata": {},
   "outputs": [
    {
     "data": {
      "text/html": [
       "<div>\n",
       "<style scoped>\n",
       "    .dataframe tbody tr th:only-of-type {\n",
       "        vertical-align: middle;\n",
       "    }\n",
       "\n",
       "    .dataframe tbody tr th {\n",
       "        vertical-align: top;\n",
       "    }\n",
       "\n",
       "    .dataframe thead th {\n",
       "        text-align: right;\n",
       "    }\n",
       "</style>\n",
       "<table border=\"1\" class=\"dataframe\">\n",
       "  <thead>\n",
       "    <tr style=\"text-align: right;\">\n",
       "      <th></th>\n",
       "      <th>Altura_Medalhistas</th>\n",
       "      <th>Peso_Medalhistas</th>\n",
       "    </tr>\n",
       "    <tr>\n",
       "      <th>Sport</th>\n",
       "      <th></th>\n",
       "      <th></th>\n",
       "    </tr>\n",
       "  </thead>\n",
       "  <tbody>\n",
       "    <tr>\n",
       "      <th>Athletics</th>\n",
       "      <td>181.0</td>\n",
       "      <td>74.6</td>\n",
       "    </tr>\n",
       "    <tr>\n",
       "      <th>Basketball</th>\n",
       "      <td>185.8</td>\n",
       "      <td>78.5</td>\n",
       "    </tr>\n",
       "    <tr>\n",
       "      <th>Beach Volleyball</th>\n",
       "      <td>184.9</td>\n",
       "      <td>78.2</td>\n",
       "    </tr>\n",
       "    <tr>\n",
       "      <th>Boxing</th>\n",
       "      <td>170.0</td>\n",
       "      <td>64.0</td>\n",
       "    </tr>\n",
       "    <tr>\n",
       "      <th>Canoeing</th>\n",
       "      <td>175.0</td>\n",
       "      <td>83.2</td>\n",
       "    </tr>\n",
       "    <tr>\n",
       "      <th>Equestrianism</th>\n",
       "      <td>179.7</td>\n",
       "      <td>75.0</td>\n",
       "    </tr>\n",
       "    <tr>\n",
       "      <th>Football</th>\n",
       "      <td>175.7</td>\n",
       "      <td>70.0</td>\n",
       "    </tr>\n",
       "    <tr>\n",
       "      <th>Gymnastics</th>\n",
       "      <td>162.8</td>\n",
       "      <td>63.8</td>\n",
       "    </tr>\n",
       "    <tr>\n",
       "      <th>Judo</th>\n",
       "      <td>176.7</td>\n",
       "      <td>86.3</td>\n",
       "    </tr>\n",
       "    <tr>\n",
       "      <th>Modern Pentathlon</th>\n",
       "      <td>166.0</td>\n",
       "      <td>55.0</td>\n",
       "    </tr>\n",
       "    <tr>\n",
       "      <th>Sailing</th>\n",
       "      <td>181.6</td>\n",
       "      <td>80.4</td>\n",
       "    </tr>\n",
       "    <tr>\n",
       "      <th>Shooting</th>\n",
       "      <td>169.0</td>\n",
       "      <td>69.0</td>\n",
       "    </tr>\n",
       "    <tr>\n",
       "      <th>Swimming</th>\n",
       "      <td>189.4</td>\n",
       "      <td>81.6</td>\n",
       "    </tr>\n",
       "    <tr>\n",
       "      <th>Taekwondo</th>\n",
       "      <td>184.0</td>\n",
       "      <td>79.5</td>\n",
       "    </tr>\n",
       "    <tr>\n",
       "      <th>Volleyball</th>\n",
       "      <td>190.6</td>\n",
       "      <td>81.2</td>\n",
       "    </tr>\n",
       "  </tbody>\n",
       "</table>\n",
       "</div>"
      ],
      "text/plain": [
       "                   Altura_Medalhistas  Peso_Medalhistas\n",
       "Sport                                                  \n",
       "Athletics                       181.0              74.6\n",
       "Basketball                      185.8              78.5\n",
       "Beach Volleyball                184.9              78.2\n",
       "Boxing                          170.0              64.0\n",
       "Canoeing                        175.0              83.2\n",
       "Equestrianism                   179.7              75.0\n",
       "Football                        175.7              70.0\n",
       "Gymnastics                      162.8              63.8\n",
       "Judo                            176.7              86.3\n",
       "Modern Pentathlon               166.0              55.0\n",
       "Sailing                         181.6              80.4\n",
       "Shooting                        169.0              69.0\n",
       "Swimming                        189.4              81.6\n",
       "Taekwondo                       184.0              79.5\n",
       "Volleyball                      190.6              81.2"
      ]
     },
     "execution_count": 477,
     "metadata": {},
     "output_type": "execute_result"
    }
   ],
   "source": [
    "df_br_med_altura_peso = df_br.dropna(subset=['Height', 'Weight']).groupby('Sport')[['Height', 'Weight']].mean().round(1).rename({'Height': 'Altura_Medalhistas', 'Weight': 'Peso_Medalhistas'}, axis='columns')\n",
    "df_br_med_altura_peso"
   ]
  },
  {
   "cell_type": "markdown",
   "metadata": {},
   "source": [
    "Será que os dados acima influenciaram no interesse geral dos atletas pelo esporte ou realmente impactaram no desempenho deles? Podemos tentar descobrir se há algum tipo de correlação.\n",
    "\n",
    "Você ainda possui o dataframe original contendo todos os atletas brasileiros, incluindo os sem medalha? Obtenha os valores médios de peso e altura por esporte daquele dataframe e compare-o com os dos medalhistas. Há alguma diferença significativa em algum esporte?"
   ]
  },
  {
   "cell_type": "code",
   "execution_count": 478,
   "metadata": {},
   "outputs": [
    {
     "data": {
      "text/html": [
       "<div>\n",
       "<style scoped>\n",
       "    .dataframe tbody tr th:only-of-type {\n",
       "        vertical-align: middle;\n",
       "    }\n",
       "\n",
       "    .dataframe tbody tr th {\n",
       "        vertical-align: top;\n",
       "    }\n",
       "\n",
       "    .dataframe thead th {\n",
       "        text-align: right;\n",
       "    }\n",
       "</style>\n",
       "<table border=\"1\" class=\"dataframe\">\n",
       "  <thead>\n",
       "    <tr style=\"text-align: right;\">\n",
       "      <th></th>\n",
       "      <th>Altura_Medalhistas</th>\n",
       "      <th>Altura_Geral</th>\n",
       "      <th>Diferenca_Altura</th>\n",
       "      <th>Peso_Medalhistas</th>\n",
       "      <th>Peso_Geral</th>\n",
       "      <th>Diferenca_Peso</th>\n",
       "    </tr>\n",
       "    <tr>\n",
       "      <th>Sport</th>\n",
       "      <th></th>\n",
       "      <th></th>\n",
       "      <th></th>\n",
       "      <th></th>\n",
       "      <th></th>\n",
       "      <th></th>\n",
       "    </tr>\n",
       "  </thead>\n",
       "  <tbody>\n",
       "    <tr>\n",
       "      <th>Athletics</th>\n",
       "      <td>181.0</td>\n",
       "      <td>176.2</td>\n",
       "      <td>4.8</td>\n",
       "      <td>74.6</td>\n",
       "      <td>67.8</td>\n",
       "      <td>6.8</td>\n",
       "    </tr>\n",
       "    <tr>\n",
       "      <th>Basketball</th>\n",
       "      <td>185.8</td>\n",
       "      <td>191.5</td>\n",
       "      <td>5.7</td>\n",
       "      <td>78.5</td>\n",
       "      <td>85.9</td>\n",
       "      <td>7.4</td>\n",
       "    </tr>\n",
       "    <tr>\n",
       "      <th>Beach Volleyball</th>\n",
       "      <td>184.9</td>\n",
       "      <td>185.7</td>\n",
       "      <td>0.8</td>\n",
       "      <td>78.2</td>\n",
       "      <td>78.6</td>\n",
       "      <td>0.4</td>\n",
       "    </tr>\n",
       "    <tr>\n",
       "      <th>Boxing</th>\n",
       "      <td>170.0</td>\n",
       "      <td>172.0</td>\n",
       "      <td>2.0</td>\n",
       "      <td>64.0</td>\n",
       "      <td>64.1</td>\n",
       "      <td>0.1</td>\n",
       "    </tr>\n",
       "    <tr>\n",
       "      <th>Canoeing</th>\n",
       "      <td>175.0</td>\n",
       "      <td>177.8</td>\n",
       "      <td>2.8</td>\n",
       "      <td>83.2</td>\n",
       "      <td>77.4</td>\n",
       "      <td>5.8</td>\n",
       "    </tr>\n",
       "    <tr>\n",
       "      <th>Equestrianism</th>\n",
       "      <td>179.7</td>\n",
       "      <td>178.3</td>\n",
       "      <td>1.4</td>\n",
       "      <td>75.0</td>\n",
       "      <td>72.3</td>\n",
       "      <td>2.7</td>\n",
       "    </tr>\n",
       "    <tr>\n",
       "      <th>Football</th>\n",
       "      <td>175.7</td>\n",
       "      <td>173.3</td>\n",
       "      <td>2.4</td>\n",
       "      <td>70.0</td>\n",
       "      <td>67.8</td>\n",
       "      <td>2.2</td>\n",
       "    </tr>\n",
       "    <tr>\n",
       "      <th>Gymnastics</th>\n",
       "      <td>162.8</td>\n",
       "      <td>157.3</td>\n",
       "      <td>5.5</td>\n",
       "      <td>63.8</td>\n",
       "      <td>52.5</td>\n",
       "      <td>11.3</td>\n",
       "    </tr>\n",
       "    <tr>\n",
       "      <th>Judo</th>\n",
       "      <td>176.7</td>\n",
       "      <td>173.9</td>\n",
       "      <td>2.8</td>\n",
       "      <td>86.3</td>\n",
       "      <td>80.3</td>\n",
       "      <td>6.0</td>\n",
       "    </tr>\n",
       "    <tr>\n",
       "      <th>Modern Pentathlon</th>\n",
       "      <td>166.0</td>\n",
       "      <td>170.5</td>\n",
       "      <td>4.5</td>\n",
       "      <td>55.0</td>\n",
       "      <td>60.7</td>\n",
       "      <td>5.7</td>\n",
       "    </tr>\n",
       "    <tr>\n",
       "      <th>Sailing</th>\n",
       "      <td>181.6</td>\n",
       "      <td>179.6</td>\n",
       "      <td>2.0</td>\n",
       "      <td>80.4</td>\n",
       "      <td>76.8</td>\n",
       "      <td>3.6</td>\n",
       "    </tr>\n",
       "    <tr>\n",
       "      <th>Shooting</th>\n",
       "      <td>169.0</td>\n",
       "      <td>172.7</td>\n",
       "      <td>3.7</td>\n",
       "      <td>69.0</td>\n",
       "      <td>76.9</td>\n",
       "      <td>7.9</td>\n",
       "    </tr>\n",
       "    <tr>\n",
       "      <th>Swimming</th>\n",
       "      <td>189.4</td>\n",
       "      <td>181.3</td>\n",
       "      <td>8.1</td>\n",
       "      <td>81.6</td>\n",
       "      <td>74.6</td>\n",
       "      <td>7.0</td>\n",
       "    </tr>\n",
       "    <tr>\n",
       "      <th>Taekwondo</th>\n",
       "      <td>184.0</td>\n",
       "      <td>173.8</td>\n",
       "      <td>10.2</td>\n",
       "      <td>79.5</td>\n",
       "      <td>63.6</td>\n",
       "      <td>15.9</td>\n",
       "    </tr>\n",
       "    <tr>\n",
       "      <th>Volleyball</th>\n",
       "      <td>190.6</td>\n",
       "      <td>187.8</td>\n",
       "      <td>2.8</td>\n",
       "      <td>81.2</td>\n",
       "      <td>78.8</td>\n",
       "      <td>2.4</td>\n",
       "    </tr>\n",
       "  </tbody>\n",
       "</table>\n",
       "</div>"
      ],
      "text/plain": [
       "                   Altura_Medalhistas  Altura_Geral  Diferenca_Altura  \\\n",
       "Sport                                                                   \n",
       "Athletics                       181.0         176.2               4.8   \n",
       "Basketball                      185.8         191.5               5.7   \n",
       "Beach Volleyball                184.9         185.7               0.8   \n",
       "Boxing                          170.0         172.0               2.0   \n",
       "Canoeing                        175.0         177.8               2.8   \n",
       "Equestrianism                   179.7         178.3               1.4   \n",
       "Football                        175.7         173.3               2.4   \n",
       "Gymnastics                      162.8         157.3               5.5   \n",
       "Judo                            176.7         173.9               2.8   \n",
       "Modern Pentathlon               166.0         170.5               4.5   \n",
       "Sailing                         181.6         179.6               2.0   \n",
       "Shooting                        169.0         172.7               3.7   \n",
       "Swimming                        189.4         181.3               8.1   \n",
       "Taekwondo                       184.0         173.8              10.2   \n",
       "Volleyball                      190.6         187.8               2.8   \n",
       "\n",
       "                   Peso_Medalhistas  Peso_Geral  Diferenca_Peso  \n",
       "Sport                                                            \n",
       "Athletics                      74.6        67.8             6.8  \n",
       "Basketball                     78.5        85.9             7.4  \n",
       "Beach Volleyball               78.2        78.6             0.4  \n",
       "Boxing                         64.0        64.1             0.1  \n",
       "Canoeing                       83.2        77.4             5.8  \n",
       "Equestrianism                  75.0        72.3             2.7  \n",
       "Football                       70.0        67.8             2.2  \n",
       "Gymnastics                     63.8        52.5            11.3  \n",
       "Judo                           86.3        80.3             6.0  \n",
       "Modern Pentathlon              55.0        60.7             5.7  \n",
       "Sailing                        80.4        76.8             3.6  \n",
       "Shooting                       69.0        76.9             7.9  \n",
       "Swimming                       81.6        74.6             7.0  \n",
       "Taekwondo                      79.5        63.6            15.9  \n",
       "Volleyball                     81.2        78.8             2.4  "
      ]
     },
     "execution_count": 478,
     "metadata": {},
     "output_type": "execute_result"
    }
   ],
   "source": [
    "esportes = df_br_med_altura_peso.index\n",
    "\n",
    "df_br_geral_altura_peso = df_br_geral[df_br_geral['Sport'].isin(esportes)].dropna(subset=['Height', 'Weight']).groupby('Sport')[['Height', 'Weight']].mean().round(1).rename({'Height': 'Altura_Geral', 'Weight': 'Peso_Geral'}, axis='columns')\n",
    "\n",
    "df_relacao = pd.concat([df_br_med_altura_peso, df_br_geral_altura_peso], axis='columns')\n",
    "\n",
    "df_relacao['Diferenca_Altura'] = df_relacao.Altura_Medalhistas - df_relacao.Altura_Geral\n",
    "df_relacao['Diferenca_Peso'] = df_relacao.Peso_Medalhistas - df_relacao.Peso_Geral\n",
    "df_relacao = df_relacao[['Altura_Medalhistas', 'Altura_Geral', 'Diferenca_Altura', 'Peso_Medalhistas', 'Peso_Geral', 'Diferenca_Peso']].abs()\n",
    "\n",
    "df_relacao\n",
    "\n"
   ]
  },
  {
   "cell_type": "markdown",
   "metadata": {},
   "source": [
    "Existe um detalhe importante passando batido até agora em nossa análise: as categorias esportivas costumam ser divididas por gênero justamente por conta de diferenças físicas entre homens e mulheres que poderiam influenciar no desempenho. Compare a altura e peso médios de atletas brasileiros por esporte segmentado por sexo."
   ]
  },
  {
   "cell_type": "code",
   "execution_count": 479,
   "metadata": {},
   "outputs": [
    {
     "data": {
      "text/html": [
       "<div>\n",
       "<style scoped>\n",
       "    .dataframe tbody tr th:only-of-type {\n",
       "        vertical-align: middle;\n",
       "    }\n",
       "\n",
       "    .dataframe tbody tr th {\n",
       "        vertical-align: top;\n",
       "    }\n",
       "\n",
       "    .dataframe thead th {\n",
       "        text-align: right;\n",
       "    }\n",
       "</style>\n",
       "<table border=\"1\" class=\"dataframe\">\n",
       "  <thead>\n",
       "    <tr style=\"text-align: right;\">\n",
       "      <th></th>\n",
       "      <th>Height_M</th>\n",
       "      <th>Height_F</th>\n",
       "      <th>Diferenca_Altura</th>\n",
       "      <th>Weight_M</th>\n",
       "      <th>Weight_F</th>\n",
       "      <th>Diferenca_Peso</th>\n",
       "    </tr>\n",
       "    <tr>\n",
       "      <th>Sport</th>\n",
       "      <th></th>\n",
       "      <th></th>\n",
       "      <th></th>\n",
       "      <th></th>\n",
       "      <th></th>\n",
       "      <th></th>\n",
       "    </tr>\n",
       "  </thead>\n",
       "  <tbody>\n",
       "    <tr>\n",
       "      <th>Alpine Skiing</th>\n",
       "      <td>184.2</td>\n",
       "      <td>160.3</td>\n",
       "      <td>23.9</td>\n",
       "      <td>85.2</td>\n",
       "      <td>52.3</td>\n",
       "      <td>32.9</td>\n",
       "    </tr>\n",
       "    <tr>\n",
       "      <th>Archery</th>\n",
       "      <td>177.8</td>\n",
       "      <td>162.9</td>\n",
       "      <td>14.9</td>\n",
       "      <td>78.2</td>\n",
       "      <td>59.7</td>\n",
       "      <td>18.5</td>\n",
       "    </tr>\n",
       "    <tr>\n",
       "      <th>Athletics</th>\n",
       "      <td>180.3</td>\n",
       "      <td>167.5</td>\n",
       "      <td>12.8</td>\n",
       "      <td>71.5</td>\n",
       "      <td>59.8</td>\n",
       "      <td>11.7</td>\n",
       "    </tr>\n",
       "    <tr>\n",
       "      <th>Badminton</th>\n",
       "      <td>183.0</td>\n",
       "      <td>168.0</td>\n",
       "      <td>15.0</td>\n",
       "      <td>78.0</td>\n",
       "      <td>70.0</td>\n",
       "      <td>8.0</td>\n",
       "    </tr>\n",
       "    <tr>\n",
       "      <th>Basketball</th>\n",
       "      <td>196.3</td>\n",
       "      <td>182.8</td>\n",
       "      <td>13.5</td>\n",
       "      <td>92.9</td>\n",
       "      <td>73.4</td>\n",
       "      <td>19.5</td>\n",
       "    </tr>\n",
       "    <tr>\n",
       "      <th>Beach Volleyball</th>\n",
       "      <td>194.5</td>\n",
       "      <td>176.5</td>\n",
       "      <td>18.0</td>\n",
       "      <td>91.8</td>\n",
       "      <td>64.9</td>\n",
       "      <td>26.9</td>\n",
       "    </tr>\n",
       "    <tr>\n",
       "      <th>Bobsleigh</th>\n",
       "      <td>185.0</td>\n",
       "      <td>168.5</td>\n",
       "      <td>16.5</td>\n",
       "      <td>89.8</td>\n",
       "      <td>74.5</td>\n",
       "      <td>15.3</td>\n",
       "    </tr>\n",
       "    <tr>\n",
       "      <th>Boxing</th>\n",
       "      <td>172.4</td>\n",
       "      <td>167.6</td>\n",
       "      <td>4.8</td>\n",
       "      <td>64.0</td>\n",
       "      <td>65.0</td>\n",
       "      <td>1.0</td>\n",
       "    </tr>\n",
       "    <tr>\n",
       "      <th>Canoeing</th>\n",
       "      <td>178.5</td>\n",
       "      <td>169.5</td>\n",
       "      <td>9.0</td>\n",
       "      <td>78.6</td>\n",
       "      <td>64.5</td>\n",
       "      <td>14.1</td>\n",
       "    </tr>\n",
       "    <tr>\n",
       "      <th>Cross Country Skiing</th>\n",
       "      <td>178.8</td>\n",
       "      <td>167.2</td>\n",
       "      <td>11.6</td>\n",
       "      <td>74.5</td>\n",
       "      <td>53.8</td>\n",
       "      <td>20.7</td>\n",
       "    </tr>\n",
       "    <tr>\n",
       "      <th>Cycling</th>\n",
       "      <td>176.1</td>\n",
       "      <td>164.3</td>\n",
       "      <td>11.8</td>\n",
       "      <td>70.0</td>\n",
       "      <td>53.5</td>\n",
       "      <td>16.5</td>\n",
       "    </tr>\n",
       "    <tr>\n",
       "      <th>Diving</th>\n",
       "      <td>172.3</td>\n",
       "      <td>161.2</td>\n",
       "      <td>11.1</td>\n",
       "      <td>69.6</td>\n",
       "      <td>59.1</td>\n",
       "      <td>10.5</td>\n",
       "    </tr>\n",
       "    <tr>\n",
       "      <th>Equestrianism</th>\n",
       "      <td>179.2</td>\n",
       "      <td>169.0</td>\n",
       "      <td>10.2</td>\n",
       "      <td>73.8</td>\n",
       "      <td>57.2</td>\n",
       "      <td>16.6</td>\n",
       "    </tr>\n",
       "    <tr>\n",
       "      <th>Fencing</th>\n",
       "      <td>181.2</td>\n",
       "      <td>171.8</td>\n",
       "      <td>9.4</td>\n",
       "      <td>76.6</td>\n",
       "      <td>61.6</td>\n",
       "      <td>15.0</td>\n",
       "    </tr>\n",
       "    <tr>\n",
       "      <th>Football</th>\n",
       "      <td>177.5</td>\n",
       "      <td>166.7</td>\n",
       "      <td>10.8</td>\n",
       "      <td>72.5</td>\n",
       "      <td>60.1</td>\n",
       "      <td>12.4</td>\n",
       "    </tr>\n",
       "    <tr>\n",
       "      <th>Golf</th>\n",
       "      <td>175.0</td>\n",
       "      <td>167.5</td>\n",
       "      <td>7.5</td>\n",
       "      <td>75.0</td>\n",
       "      <td>55.5</td>\n",
       "      <td>19.5</td>\n",
       "    </tr>\n",
       "    <tr>\n",
       "      <th>Gymnastics</th>\n",
       "      <td>168.9</td>\n",
       "      <td>150.5</td>\n",
       "      <td>18.4</td>\n",
       "      <td>65.3</td>\n",
       "      <td>45.0</td>\n",
       "      <td>20.3</td>\n",
       "    </tr>\n",
       "    <tr>\n",
       "      <th>Handball</th>\n",
       "      <td>187.4</td>\n",
       "      <td>176.0</td>\n",
       "      <td>11.4</td>\n",
       "      <td>92.8</td>\n",
       "      <td>69.6</td>\n",
       "      <td>23.2</td>\n",
       "    </tr>\n",
       "    <tr>\n",
       "      <th>Judo</th>\n",
       "      <td>177.1</td>\n",
       "      <td>167.1</td>\n",
       "      <td>10.0</td>\n",
       "      <td>86.7</td>\n",
       "      <td>66.4</td>\n",
       "      <td>20.3</td>\n",
       "    </tr>\n",
       "    <tr>\n",
       "      <th>Modern Pentathlon</th>\n",
       "      <td>180.0</td>\n",
       "      <td>165.8</td>\n",
       "      <td>14.2</td>\n",
       "      <td>73.0</td>\n",
       "      <td>54.5</td>\n",
       "      <td>18.5</td>\n",
       "    </tr>\n",
       "    <tr>\n",
       "      <th>Rowing</th>\n",
       "      <td>183.8</td>\n",
       "      <td>172.3</td>\n",
       "      <td>11.5</td>\n",
       "      <td>83.4</td>\n",
       "      <td>59.2</td>\n",
       "      <td>24.2</td>\n",
       "    </tr>\n",
       "    <tr>\n",
       "      <th>Rugby Sevens</th>\n",
       "      <td>176.6</td>\n",
       "      <td>166.3</td>\n",
       "      <td>10.3</td>\n",
       "      <td>83.9</td>\n",
       "      <td>62.7</td>\n",
       "      <td>21.2</td>\n",
       "    </tr>\n",
       "    <tr>\n",
       "      <th>Sailing</th>\n",
       "      <td>181.5</td>\n",
       "      <td>170.0</td>\n",
       "      <td>11.5</td>\n",
       "      <td>79.8</td>\n",
       "      <td>62.2</td>\n",
       "      <td>17.6</td>\n",
       "    </tr>\n",
       "    <tr>\n",
       "      <th>Shooting</th>\n",
       "      <td>174.7</td>\n",
       "      <td>165.6</td>\n",
       "      <td>9.1</td>\n",
       "      <td>81.1</td>\n",
       "      <td>61.8</td>\n",
       "      <td>19.3</td>\n",
       "    </tr>\n",
       "    <tr>\n",
       "      <th>Swimming</th>\n",
       "      <td>185.1</td>\n",
       "      <td>169.4</td>\n",
       "      <td>15.7</td>\n",
       "      <td>79.6</td>\n",
       "      <td>59.2</td>\n",
       "      <td>20.4</td>\n",
       "    </tr>\n",
       "    <tr>\n",
       "      <th>Table Tennis</th>\n",
       "      <td>174.0</td>\n",
       "      <td>163.8</td>\n",
       "      <td>10.2</td>\n",
       "      <td>68.6</td>\n",
       "      <td>58.0</td>\n",
       "      <td>10.6</td>\n",
       "    </tr>\n",
       "    <tr>\n",
       "      <th>Taekwondo</th>\n",
       "      <td>176.0</td>\n",
       "      <td>171.9</td>\n",
       "      <td>4.1</td>\n",
       "      <td>66.7</td>\n",
       "      <td>61.0</td>\n",
       "      <td>5.7</td>\n",
       "    </tr>\n",
       "    <tr>\n",
       "      <th>Tennis</th>\n",
       "      <td>188.0</td>\n",
       "      <td>169.8</td>\n",
       "      <td>18.2</td>\n",
       "      <td>77.4</td>\n",
       "      <td>60.8</td>\n",
       "      <td>16.6</td>\n",
       "    </tr>\n",
       "    <tr>\n",
       "      <th>Triathlon</th>\n",
       "      <td>184.0</td>\n",
       "      <td>165.8</td>\n",
       "      <td>18.2</td>\n",
       "      <td>73.3</td>\n",
       "      <td>53.6</td>\n",
       "      <td>19.7</td>\n",
       "    </tr>\n",
       "    <tr>\n",
       "      <th>Volleyball</th>\n",
       "      <td>192.3</td>\n",
       "      <td>181.4</td>\n",
       "      <td>10.9</td>\n",
       "      <td>86.0</td>\n",
       "      <td>68.9</td>\n",
       "      <td>17.1</td>\n",
       "    </tr>\n",
       "    <tr>\n",
       "      <th>Water Polo</th>\n",
       "      <td>183.9</td>\n",
       "      <td>172.9</td>\n",
       "      <td>11.0</td>\n",
       "      <td>85.7</td>\n",
       "      <td>68.4</td>\n",
       "      <td>17.3</td>\n",
       "    </tr>\n",
       "    <tr>\n",
       "      <th>Weightlifting</th>\n",
       "      <td>171.8</td>\n",
       "      <td>161.5</td>\n",
       "      <td>10.3</td>\n",
       "      <td>90.8</td>\n",
       "      <td>62.8</td>\n",
       "      <td>28.0</td>\n",
       "    </tr>\n",
       "    <tr>\n",
       "      <th>Wrestling</th>\n",
       "      <td>182.1</td>\n",
       "      <td>169.3</td>\n",
       "      <td>12.8</td>\n",
       "      <td>97.3</td>\n",
       "      <td>66.7</td>\n",
       "      <td>30.6</td>\n",
       "    </tr>\n",
       "  </tbody>\n",
       "</table>\n",
       "</div>"
      ],
      "text/plain": [
       "                      Height_M  Height_F  Diferenca_Altura  Weight_M  \\\n",
       "Sport                                                                  \n",
       "Alpine Skiing            184.2     160.3              23.9      85.2   \n",
       "Archery                  177.8     162.9              14.9      78.2   \n",
       "Athletics                180.3     167.5              12.8      71.5   \n",
       "Badminton                183.0     168.0              15.0      78.0   \n",
       "Basketball               196.3     182.8              13.5      92.9   \n",
       "Beach Volleyball         194.5     176.5              18.0      91.8   \n",
       "Bobsleigh                185.0     168.5              16.5      89.8   \n",
       "Boxing                   172.4     167.6               4.8      64.0   \n",
       "Canoeing                 178.5     169.5               9.0      78.6   \n",
       "Cross Country Skiing     178.8     167.2              11.6      74.5   \n",
       "Cycling                  176.1     164.3              11.8      70.0   \n",
       "Diving                   172.3     161.2              11.1      69.6   \n",
       "Equestrianism            179.2     169.0              10.2      73.8   \n",
       "Fencing                  181.2     171.8               9.4      76.6   \n",
       "Football                 177.5     166.7              10.8      72.5   \n",
       "Golf                     175.0     167.5               7.5      75.0   \n",
       "Gymnastics               168.9     150.5              18.4      65.3   \n",
       "Handball                 187.4     176.0              11.4      92.8   \n",
       "Judo                     177.1     167.1              10.0      86.7   \n",
       "Modern Pentathlon        180.0     165.8              14.2      73.0   \n",
       "Rowing                   183.8     172.3              11.5      83.4   \n",
       "Rugby Sevens             176.6     166.3              10.3      83.9   \n",
       "Sailing                  181.5     170.0              11.5      79.8   \n",
       "Shooting                 174.7     165.6               9.1      81.1   \n",
       "Swimming                 185.1     169.4              15.7      79.6   \n",
       "Table Tennis             174.0     163.8              10.2      68.6   \n",
       "Taekwondo                176.0     171.9               4.1      66.7   \n",
       "Tennis                   188.0     169.8              18.2      77.4   \n",
       "Triathlon                184.0     165.8              18.2      73.3   \n",
       "Volleyball               192.3     181.4              10.9      86.0   \n",
       "Water Polo               183.9     172.9              11.0      85.7   \n",
       "Weightlifting            171.8     161.5              10.3      90.8   \n",
       "Wrestling                182.1     169.3              12.8      97.3   \n",
       "\n",
       "                      Weight_F  Diferenca_Peso  \n",
       "Sport                                           \n",
       "Alpine Skiing             52.3            32.9  \n",
       "Archery                   59.7            18.5  \n",
       "Athletics                 59.8            11.7  \n",
       "Badminton                 70.0             8.0  \n",
       "Basketball                73.4            19.5  \n",
       "Beach Volleyball          64.9            26.9  \n",
       "Bobsleigh                 74.5            15.3  \n",
       "Boxing                    65.0             1.0  \n",
       "Canoeing                  64.5            14.1  \n",
       "Cross Country Skiing      53.8            20.7  \n",
       "Cycling                   53.5            16.5  \n",
       "Diving                    59.1            10.5  \n",
       "Equestrianism             57.2            16.6  \n",
       "Fencing                   61.6            15.0  \n",
       "Football                  60.1            12.4  \n",
       "Golf                      55.5            19.5  \n",
       "Gymnastics                45.0            20.3  \n",
       "Handball                  69.6            23.2  \n",
       "Judo                      66.4            20.3  \n",
       "Modern Pentathlon         54.5            18.5  \n",
       "Rowing                    59.2            24.2  \n",
       "Rugby Sevens              62.7            21.2  \n",
       "Sailing                   62.2            17.6  \n",
       "Shooting                  61.8            19.3  \n",
       "Swimming                  59.2            20.4  \n",
       "Table Tennis              58.0            10.6  \n",
       "Taekwondo                 61.0             5.7  \n",
       "Tennis                    60.8            16.6  \n",
       "Triathlon                 53.6            19.7  \n",
       "Volleyball                68.9            17.1  \n",
       "Water Polo                68.4            17.3  \n",
       "Weightlifting             62.8            28.0  \n",
       "Wrestling                 66.7            30.6  "
      ]
     },
     "execution_count": 479,
     "metadata": {},
     "output_type": "execute_result"
    }
   ],
   "source": [
    "df_br_peso_altura = df_br_geral.dropna(subset=['Height', 'Weight']).groupby(['Sex', 'Sport'])[['Height', 'Weight']].mean().reset_index(level=0).round(1)\n",
    "df_br_peso_altura\n",
    "\n",
    "df_br_peso_altura_f = df_br_peso_altura[df_br_peso_altura['Sex'] == 'F'].drop(columns='Sex').rename(columns={'Height': 'Height_F', 'Weight': 'Weight_F'})\n",
    "df_br_peso_altura_h = df_br_peso_altura[df_br_peso_altura['Sex'] == 'M'].drop(columns='Sex').rename(columns={'Height': 'Height_M', 'Weight': 'Weight_M'})\n",
    "\n",
    "\n",
    "df_relacao_h_m = pd.concat([df_br_peso_altura_h, df_br_peso_altura_f], axis='columns').dropna()\n",
    "\n",
    "df_relacao_h_m['Diferenca_Altura'] = df_br_peso_altura_h['Height_M'].loc[df_relacao_h_m.index] - df_br_peso_altura_f['Height_F'].loc[df_relacao_h_m.index]\n",
    "\n",
    "df_relacao_h_m['Diferenca_Peso'] = df_br_peso_altura_h['Weight_M'].loc[df_relacao_h_m.index] - df_br_peso_altura_f['Weight_F'].loc[df_relacao_h_m.index]\n",
    "\n",
    "df_relacao_h_m = df_relacao_h_m[['Height_M', 'Height_F', 'Diferenca_Altura', 'Weight_M', 'Weight_F', 'Diferenca_Peso']].abs()\n",
    "df_relacao_h_m"
   ]
  },
  {
   "cell_type": "markdown",
   "metadata": {},
   "source": [
    "Qual foi (ou quais foram) o maior medalhista brasileiro em quantidade total de medalhas?"
   ]
  },
  {
   "cell_type": "code",
   "execution_count": 480,
   "metadata": {},
   "outputs": [
    {
     "name": "stdout",
     "output_type": "stream",
     "text": [
      "5 medalhas\n",
      "Robert Scheidt\n",
      "Torben Schmidt Grael\n"
     ]
    }
   ],
   "source": [
    "maior_quant_medalhas_br = df_br.groupby('Name')['Medal'].count().max()\n",
    "dict_df_br = df_br.groupby('Name')['Medal'].count().to_dict()\n",
    "\n",
    "print(f'{maior_quant_medalhas_br} medalhas')\n",
    "\n",
    "for k, v in dict_df_br.items():\n",
    "    if v == maior_quant_medalhas_br:\n",
    "        print(k)\n"
   ]
  },
  {
   "cell_type": "markdown",
   "metadata": {},
   "source": [
    "E o(s) maior(es) em quantidade de medalhas de ouro?"
   ]
  },
  {
   "cell_type": "code",
   "execution_count": 481,
   "metadata": {},
   "outputs": [
    {
     "name": "stdout",
     "output_type": "stream",
     "text": [
      "2 medalhas de ouro cada\n",
      "Adhemar Ferreira da Silva\n",
      "Fabiana \"Fabi\" Alvim de Oliveira\n",
      "Fabiana Marcelino Claudino\n",
      "Giovane Farinazzo Gvio\n",
      "Jaqueline Maria \"Jaque\" Pereira de Carvalho Endres\n",
      "Marcelo Bastos Ferreira\n",
      "Maurcio Camargo Lima\n",
      "Paula Renata Marques Pequeno\n",
      "Robert Scheidt\n",
      "Sheilla Tavares de Castro Blassioli\n",
      "Srgio \"Escadinha\" Dutra dos Santos\n",
      "Thasa Daher de Menezes\n",
      "Torben Schmidt Grael\n"
     ]
    }
   ],
   "source": [
    "df_br_au = df_br[df_br['Medal'] == 'Gold']\n",
    "\n",
    "maior_quant_medalhas_br = df_br_au.groupby('Name')['Medal'].count().max()\n",
    "dict_df_br = df_br_au.groupby('Name')['Medal'].count().to_dict()\n",
    "\n",
    "print(f'{maior_quant_medalhas_br} medalhas de ouro cada')\n",
    "\n",
    "for k, v in dict_df_br.items():\n",
    "    if v == maior_quant_medalhas_br:\n",
    "        print(k)"
   ]
  },
  {
   "cell_type": "markdown",
   "metadata": {},
   "source": [
    "Qual esporte rendeu mais medalhas de ouro para o Brasil? E qual rendeu mais medalhas no total?\n",
    "\n",
    "**DICA:** tome muito cuidado nessa análise: cada **evento esportivo** rende 1 medalha. Por exemplo, quando a equipe de futebol vence, isso é considerado 1 medalha, mesmo tendo cerca de 20 atletas medalhistas na equipe. "
   ]
  },
  {
   "cell_type": "code",
   "execution_count": 482,
   "metadata": {},
   "outputs": [
    {
     "name": "stdout",
     "output_type": "stream",
     "text": [
      "Esporte brasileiro com mais medalhas de ouro: \u001b[32mSailing\u001b[0m\n"
     ]
    },
    {
     "name": "stderr",
     "output_type": "stream",
     "text": [
      "/Library/Frameworks/Python.framework/Versions/3.9/lib/python3.9/site-packages/pandas/util/_decorators.py:311: SettingWithCopyWarning: \n",
      "A value is trying to be set on a copy of a slice from a DataFrame\n",
      "\n",
      "See the caveats in the documentation: https://pandas.pydata.org/pandas-docs/stable/user_guide/indexing.html#returning-a-view-versus-a-copy\n",
      "  return func(*args, **kwargs)\n"
     ]
    },
    {
     "data": {
      "text/plain": [
       "Medal\n",
       "Gold    7\n",
       "dtype: int64"
      ]
     },
     "execution_count": 482,
     "metadata": {},
     "output_type": "execute_result"
    }
   ],
   "source": [
    "df_br_au.drop_duplicates(subset=['Year', 'Event'], inplace=True)\n",
    "\n",
    "esporte = df_br_au.groupby('Sport').size().idxmax()\n",
    "\n",
    "print(f'Esporte brasileiro com mais medalhas de ouro: \\033[32m{esporte}\\033[0m')\n",
    "\n",
    "df_br_au[df_br_au['Sport'] == esporte].groupby('Medal').size()"
   ]
  },
  {
   "cell_type": "code",
   "execution_count": 483,
   "metadata": {},
   "outputs": [
    {
     "name": "stdout",
     "output_type": "stream",
     "text": [
      "Esporte brasileiro com mais medalhas no geral: \u001b[32mJudo\u001b[0m\n"
     ]
    },
    {
     "data": {
      "text/plain": [
       "Medal\n",
       "Bronze    15\n",
       "Gold       4\n",
       "Silver     3\n",
       "dtype: int64"
      ]
     },
     "execution_count": 483,
     "metadata": {},
     "output_type": "execute_result"
    }
   ],
   "source": [
    "esporte = df_br.drop_duplicates(subset=['Year', 'Event', 'Medal']).groupby('Sport').size().idxmax()\n",
    "\n",
    "print(f'Esporte brasileiro com mais medalhas no geral: \\033[32m{esporte}\\033[0m')\n",
    "\n",
    "df_br[df_br['Sport'] == esporte].groupby('Medal').size()"
   ]
  },
  {
   "cell_type": "markdown",
   "metadata": {},
   "source": [
    "Cada \"categoria\" dentro de um esporte é considerado um evento. Por exemplo, dentro de \"atletismo\", temos uma competição de 100m masculina, uma de 100m feminino, um revezamento 4 x 100m masculino, um revezamento 4 x 100m feminino, uma competição de 400m masculino, uma de 400m feminino, uma maratona masculina, uma maratona feminina, e assim sucessivamente.\n",
    "\n",
    "Sabendo disso, qual evento esportivo mais rendeu medalhas de ouro para o Brasil? E total de medalhas?"
   ]
  },
  {
   "cell_type": "code",
   "execution_count": 484,
   "metadata": {},
   "outputs": [
    {
     "name": "stdout",
     "output_type": "stream",
     "text": [
      "Evento brasileiro com mais medalhas de ouro: \u001b[32mVolleyball Men's Volleyball\u001b[0m com 3 medalhas de ouro\n"
     ]
    }
   ],
   "source": [
    "evento = df_br_au.groupby('Event').size().idxmax()\n",
    "\n",
    "print(f'Evento brasileiro com mais medalhas de ouro: \\033[32m{evento}\\033[0m com', end=' ')\n",
    "\n",
    "print(f\"{df_br_au[df_br_au['Event'] == evento].groupby('Medal').size().loc['Gold']} medalhas de ouro\")"
   ]
  },
  {
   "cell_type": "code",
   "execution_count": 485,
   "metadata": {},
   "outputs": [
    {
     "name": "stdout",
     "output_type": "stream",
     "text": [
      "Evento brasileiro com mais medalhas de ouro: \u001b[32mBeach Volleyball Women's Beach Volleyball\u001b[0m\n"
     ]
    },
    {
     "data": {
      "text/plain": [
       "Medal\n",
       "Bronze    2\n",
       "Gold      1\n",
       "Silver    4\n",
       "dtype: int64"
      ]
     },
     "execution_count": 485,
     "metadata": {},
     "output_type": "execute_result"
    }
   ],
   "source": [
    "df_br.drop_duplicates(subset=['Year', 'Event', 'Medal'], inplace=True)\n",
    "\n",
    "evento = df_br.groupby('Event').size().idxmax()\n",
    "\n",
    "print(f'Evento brasileiro com mais medalhas de ouro: \\033[32m{evento}\\033[0m')\n",
    "\n",
    "df_br[df_br['Event'] == evento].groupby('Medal').size()"
   ]
  },
  {
   "cell_type": "markdown",
   "metadata": {},
   "source": [
    "Para finalizar sobre o Brasil: obtenha o total de medalhas de ouro, prata, bronze e total por ano."
   ]
  },
  {
   "cell_type": "code",
   "execution_count": 486,
   "metadata": {},
   "outputs": [
    {
     "data": {
      "text/html": [
       "<div>\n",
       "<style scoped>\n",
       "    .dataframe tbody tr th:only-of-type {\n",
       "        vertical-align: middle;\n",
       "    }\n",
       "\n",
       "    .dataframe tbody tr th {\n",
       "        vertical-align: top;\n",
       "    }\n",
       "\n",
       "    .dataframe thead th {\n",
       "        text-align: right;\n",
       "    }\n",
       "</style>\n",
       "<table border=\"1\" class=\"dataframe\">\n",
       "  <thead>\n",
       "    <tr style=\"text-align: right;\">\n",
       "      <th>Medal</th>\n",
       "      <th>Bronze</th>\n",
       "      <th>Gold</th>\n",
       "      <th>Silver</th>\n",
       "      <th>Total</th>\n",
       "    </tr>\n",
       "    <tr>\n",
       "      <th>Year</th>\n",
       "      <th></th>\n",
       "      <th></th>\n",
       "      <th></th>\n",
       "      <th></th>\n",
       "    </tr>\n",
       "  </thead>\n",
       "  <tbody>\n",
       "    <tr>\n",
       "      <th>1920</th>\n",
       "      <td>1.0</td>\n",
       "      <td>1.0</td>\n",
       "      <td>1.0</td>\n",
       "      <td>3.0</td>\n",
       "    </tr>\n",
       "    <tr>\n",
       "      <th>1948</th>\n",
       "      <td>1.0</td>\n",
       "      <td>0.0</td>\n",
       "      <td>0.0</td>\n",
       "      <td>1.0</td>\n",
       "    </tr>\n",
       "    <tr>\n",
       "      <th>1952</th>\n",
       "      <td>2.0</td>\n",
       "      <td>1.0</td>\n",
       "      <td>0.0</td>\n",
       "      <td>3.0</td>\n",
       "    </tr>\n",
       "    <tr>\n",
       "      <th>1956</th>\n",
       "      <td>0.0</td>\n",
       "      <td>1.0</td>\n",
       "      <td>0.0</td>\n",
       "      <td>1.0</td>\n",
       "    </tr>\n",
       "    <tr>\n",
       "      <th>1960</th>\n",
       "      <td>2.0</td>\n",
       "      <td>0.0</td>\n",
       "      <td>0.0</td>\n",
       "      <td>2.0</td>\n",
       "    </tr>\n",
       "    <tr>\n",
       "      <th>1964</th>\n",
       "      <td>1.0</td>\n",
       "      <td>0.0</td>\n",
       "      <td>0.0</td>\n",
       "      <td>1.0</td>\n",
       "    </tr>\n",
       "    <tr>\n",
       "      <th>1968</th>\n",
       "      <td>2.0</td>\n",
       "      <td>0.0</td>\n",
       "      <td>1.0</td>\n",
       "      <td>3.0</td>\n",
       "    </tr>\n",
       "    <tr>\n",
       "      <th>1972</th>\n",
       "      <td>2.0</td>\n",
       "      <td>0.0</td>\n",
       "      <td>0.0</td>\n",
       "      <td>2.0</td>\n",
       "    </tr>\n",
       "    <tr>\n",
       "      <th>1976</th>\n",
       "      <td>2.0</td>\n",
       "      <td>0.0</td>\n",
       "      <td>0.0</td>\n",
       "      <td>2.0</td>\n",
       "    </tr>\n",
       "    <tr>\n",
       "      <th>1980</th>\n",
       "      <td>2.0</td>\n",
       "      <td>2.0</td>\n",
       "      <td>0.0</td>\n",
       "      <td>4.0</td>\n",
       "    </tr>\n",
       "    <tr>\n",
       "      <th>1984</th>\n",
       "      <td>2.0</td>\n",
       "      <td>1.0</td>\n",
       "      <td>5.0</td>\n",
       "      <td>8.0</td>\n",
       "    </tr>\n",
       "    <tr>\n",
       "      <th>1988</th>\n",
       "      <td>3.0</td>\n",
       "      <td>1.0</td>\n",
       "      <td>2.0</td>\n",
       "      <td>6.0</td>\n",
       "    </tr>\n",
       "    <tr>\n",
       "      <th>1992</th>\n",
       "      <td>0.0</td>\n",
       "      <td>2.0</td>\n",
       "      <td>1.0</td>\n",
       "      <td>3.0</td>\n",
       "    </tr>\n",
       "    <tr>\n",
       "      <th>1996</th>\n",
       "      <td>9.0</td>\n",
       "      <td>3.0</td>\n",
       "      <td>3.0</td>\n",
       "      <td>15.0</td>\n",
       "    </tr>\n",
       "    <tr>\n",
       "      <th>2000</th>\n",
       "      <td>6.0</td>\n",
       "      <td>0.0</td>\n",
       "      <td>6.0</td>\n",
       "      <td>12.0</td>\n",
       "    </tr>\n",
       "    <tr>\n",
       "      <th>2004</th>\n",
       "      <td>3.0</td>\n",
       "      <td>5.0</td>\n",
       "      <td>2.0</td>\n",
       "      <td>10.0</td>\n",
       "    </tr>\n",
       "    <tr>\n",
       "      <th>2008</th>\n",
       "      <td>9.0</td>\n",
       "      <td>3.0</td>\n",
       "      <td>4.0</td>\n",
       "      <td>16.0</td>\n",
       "    </tr>\n",
       "    <tr>\n",
       "      <th>2012</th>\n",
       "      <td>9.0</td>\n",
       "      <td>3.0</td>\n",
       "      <td>5.0</td>\n",
       "      <td>17.0</td>\n",
       "    </tr>\n",
       "    <tr>\n",
       "      <th>2016</th>\n",
       "      <td>6.0</td>\n",
       "      <td>7.0</td>\n",
       "      <td>6.0</td>\n",
       "      <td>19.0</td>\n",
       "    </tr>\n",
       "  </tbody>\n",
       "</table>\n",
       "</div>"
      ],
      "text/plain": [
       "Medal  Bronze  Gold  Silver  Total\n",
       "Year                              \n",
       "1920      1.0   1.0     1.0    3.0\n",
       "1948      1.0   0.0     0.0    1.0\n",
       "1952      2.0   1.0     0.0    3.0\n",
       "1956      0.0   1.0     0.0    1.0\n",
       "1960      2.0   0.0     0.0    2.0\n",
       "1964      1.0   0.0     0.0    1.0\n",
       "1968      2.0   0.0     1.0    3.0\n",
       "1972      2.0   0.0     0.0    2.0\n",
       "1976      2.0   0.0     0.0    2.0\n",
       "1980      2.0   2.0     0.0    4.0\n",
       "1984      2.0   1.0     5.0    8.0\n",
       "1988      3.0   1.0     2.0    6.0\n",
       "1992      0.0   2.0     1.0    3.0\n",
       "1996      9.0   3.0     3.0   15.0\n",
       "2000      6.0   0.0     6.0   12.0\n",
       "2004      3.0   5.0     2.0   10.0\n",
       "2008      9.0   3.0     4.0   16.0\n",
       "2012      9.0   3.0     5.0   17.0\n",
       "2016      6.0   7.0     6.0   19.0"
      ]
     },
     "execution_count": 486,
     "metadata": {},
     "output_type": "execute_result"
    }
   ],
   "source": [
    "df_br_tot = df_br.groupby(['Medal', 'Year']).size().unstack(level=0).fillna(0)\n",
    "df_br_tot['Total'] = df_br_tot.sum(axis='columns')\n",
    "df_br_tot\n"
   ]
  },
  {
   "cell_type": "markdown",
   "metadata": {},
   "source": [
    "## 2. O mundo nos jogos de verão\n",
    "\n",
    "Vamos agora analisar um pouquinho do que aconteceu nas Olimpíadas de verão em todo o mundo.\n",
    "\n",
    "Retome o DataFrame original e descarte as informações sobre os jogos de inverno."
   ]
  },
  {
   "cell_type": "code",
   "execution_count": 487,
   "metadata": {},
   "outputs": [],
   "source": [
    "df_mundo = df_olimpiadas[df_olimpiadas['Season'] != 'Winter']"
   ]
  },
  {
   "cell_type": "markdown",
   "metadata": {},
   "source": [
    "Obtenha a lista de todos os esportes já disputados nas olimpíadas de verão."
   ]
  },
  {
   "cell_type": "code",
   "execution_count": 488,
   "metadata": {},
   "outputs": [],
   "source": [
    "esportes = sorted(df_mundo['Sport'].unique().tolist())"
   ]
  },
  {
   "cell_type": "markdown",
   "metadata": {},
   "source": [
    "Obtenha a lista de todas as modalidades esportivas já disputadas nas olimpíadas de verão."
   ]
  },
  {
   "cell_type": "code",
   "execution_count": 489,
   "metadata": {},
   "outputs": [],
   "source": [
    "eventos = sorted(df_mundo['Event'].unique().tolist())"
   ]
  },
  {
   "cell_type": "markdown",
   "metadata": {},
   "source": [
    "Obtenha a lista de todos os países que já disputaram olimpíadas."
   ]
  },
  {
   "cell_type": "code",
   "execution_count": 490,
   "metadata": {},
   "outputs": [],
   "source": [
    "paises = sorted(df_mundo['NOC'].unique().tolist())"
   ]
  },
  {
   "cell_type": "markdown",
   "metadata": {},
   "source": [
    "Qual atleta foi o maior medalhista (em medalhas totais) da história das olimpíadas de verão?"
   ]
  },
  {
   "cell_type": "code",
   "execution_count": 491,
   "metadata": {},
   "outputs": [
    {
     "name": "stdout",
     "output_type": "stream",
     "text": [
      "Maior medalhista do mundo nas olimpíadas de verão: \u001b[32mMichael Fred Phelps, II\u001b[0m\n"
     ]
    },
    {
     "data": {
      "text/html": [
       "<div>\n",
       "<style scoped>\n",
       "    .dataframe tbody tr th:only-of-type {\n",
       "        vertical-align: middle;\n",
       "    }\n",
       "\n",
       "    .dataframe tbody tr th {\n",
       "        vertical-align: top;\n",
       "    }\n",
       "\n",
       "    .dataframe thead th {\n",
       "        text-align: right;\n",
       "    }\n",
       "</style>\n",
       "<table border=\"1\" class=\"dataframe\">\n",
       "  <thead>\n",
       "    <tr style=\"text-align: right;\">\n",
       "      <th></th>\n",
       "      <th>Medal</th>\n",
       "      <th>Qtd</th>\n",
       "    </tr>\n",
       "  </thead>\n",
       "  <tbody>\n",
       "    <tr>\n",
       "      <th>0</th>\n",
       "      <td>Bronze</td>\n",
       "      <td>2</td>\n",
       "    </tr>\n",
       "    <tr>\n",
       "      <th>1</th>\n",
       "      <td>Gold</td>\n",
       "      <td>23</td>\n",
       "    </tr>\n",
       "    <tr>\n",
       "      <th>2</th>\n",
       "      <td>Silver</td>\n",
       "      <td>3</td>\n",
       "    </tr>\n",
       "  </tbody>\n",
       "</table>\n",
       "</div>"
      ],
      "text/plain": [
       "    Medal  Qtd\n",
       "0  Bronze    2\n",
       "1    Gold   23\n",
       "2  Silver    3"
      ]
     },
     "execution_count": 491,
     "metadata": {},
     "output_type": "execute_result"
    }
   ],
   "source": [
    "maior_medalhista_mundo = df_mundo[~df_mundo['Medal'].isna()].groupby('Name').size().idxmax()\n",
    "\n",
    "print(f'Maior medalhista do mundo nas olimpíadas de verão: \\033[32m{maior_medalhista_mundo}\\033[0m')\n",
    "\n",
    "df_mundo[df_mundo['Name'] == maior_medalhista_mundo].groupby('Medal').size().reset_index(name='Qtd')"
   ]
  },
  {
   "cell_type": "markdown",
   "metadata": {},
   "source": [
    "Qual atleta foi o maior medalhista de ouro da história das olimpíadas de verão?"
   ]
  },
  {
   "cell_type": "code",
   "execution_count": 492,
   "metadata": {},
   "outputs": [
    {
     "name": "stdout",
     "output_type": "stream",
     "text": [
      "Maior medalhista de ouro do mundo nas olimpíadas de verão: \u001b[32mMichael Fred Phelps, II\u001b[0m com 23 medalhas de ouro\n"
     ]
    }
   ],
   "source": [
    "maiores_medalhistas_ouro = df_mundo[df_mundo['Medal'] == 'Gold'].groupby('Name').size()\n",
    "\n",
    "print(f\"Maior medalhista de ouro do mundo nas olimpíadas de verão: \\033[32m{maiores_medalhistas_ouro.idxmax()}\\033[0m com {maiores_medalhistas_ouro.max()} medalhas de ouro\")"
   ]
  },
  {
   "cell_type": "markdown",
   "metadata": {},
   "source": [
    "Qual país foi o maior medalhista de ouro da história das olimpíadas de verão? Lembre-se da questão do evento esportivo, para não considerar múltiplas medalhas para um mesmo evento (ex: uma equipe de futebol fazendo parecer que mais de 20 medalhas foram distribuídas)."
   ]
  },
  {
   "cell_type": "code",
   "execution_count": 507,
   "metadata": {},
   "outputs": [
    {
     "name": "stdout",
     "output_type": "stream",
     "text": [
      "Maior pais medalhista de ouro: \u001b[32mUSA\u001b[0m com 1028 medalhas de ouro.\n"
     ]
    }
   ],
   "source": [
    "df_mundo = df_mundo.drop_duplicates(subset=['Year', 'Event', 'Medal'])\n",
    "\n",
    "pais_medalhista_ouro = df_mundo[df_mundo['Medal'] == 'Gold'].groupby('NOC').size()\n",
    "\n",
    "print(f'Maior pais medalhista de ouro: \\033[32m{pais_medalhista_ouro.idxmax()}\\033[0m com {pais_medalhista_ouro.max()} medalhas de ouro.')"
   ]
  },
  {
   "cell_type": "markdown",
   "metadata": {},
   "source": [
    "Qual país foi o maior medalhista em medalhas totais na história das olimpíadas de verão?"
   ]
  },
  {
   "cell_type": "code",
   "execution_count": 515,
   "metadata": {},
   "outputs": [
    {
     "name": "stdout",
     "output_type": "stream",
     "text": [
      "Maior pais medalhista geral: \u001b[32mUSA\u001b[0m com 2783 medalhas no total.\n"
     ]
    },
    {
     "data": {
      "text/html": [
       "<div>\n",
       "<style scoped>\n",
       "    .dataframe tbody tr th:only-of-type {\n",
       "        vertical-align: middle;\n",
       "    }\n",
       "\n",
       "    .dataframe tbody tr th {\n",
       "        vertical-align: top;\n",
       "    }\n",
       "\n",
       "    .dataframe thead th {\n",
       "        text-align: right;\n",
       "    }\n",
       "</style>\n",
       "<table border=\"1\" class=\"dataframe\">\n",
       "  <thead>\n",
       "    <tr style=\"text-align: right;\">\n",
       "      <th></th>\n",
       "      <th>Medal</th>\n",
       "      <th>Qtd</th>\n",
       "    </tr>\n",
       "  </thead>\n",
       "  <tbody>\n",
       "    <tr>\n",
       "      <th>0</th>\n",
       "      <td>Bronze</td>\n",
       "      <td>678</td>\n",
       "    </tr>\n",
       "    <tr>\n",
       "      <th>1</th>\n",
       "      <td>Gold</td>\n",
       "      <td>1028</td>\n",
       "    </tr>\n",
       "    <tr>\n",
       "      <th>2</th>\n",
       "      <td>Silver</td>\n",
       "      <td>796</td>\n",
       "    </tr>\n",
       "  </tbody>\n",
       "</table>\n",
       "</div>"
      ],
      "text/plain": [
       "    Medal   Qtd\n",
       "0  Bronze   678\n",
       "1    Gold  1028\n",
       "2  Silver   796"
      ]
     },
     "execution_count": 515,
     "metadata": {},
     "output_type": "execute_result"
    }
   ],
   "source": [
    "pais_medalhista = df_mundo.groupby('NOC').size()\n",
    "\n",
    "print(f'Maior pais medalhista geral: \\033[32m{pais_medalhista.idxmax()}\\033[0m com {pais_medalhista.max()} medalhas no total.')\n",
    "\n",
    "df_mundo[df_mundo['NOC'] == pais_medalhista.idxmax()].groupby('Medal').size().reset_index(name='Qtd')"
   ]
  },
  {
   "cell_type": "markdown",
   "metadata": {},
   "source": [
    "Obtenha o total de medalhas de ouro, prata e total por edição das Olimpíadas de verão. Lembre-se da questão do evento esportivo."
   ]
  },
  {
   "cell_type": "code",
   "execution_count": 602,
   "metadata": {},
   "outputs": [
    {
     "data": {
      "text/html": [
       "<div>\n",
       "<style scoped>\n",
       "    .dataframe tbody tr th:only-of-type {\n",
       "        vertical-align: middle;\n",
       "    }\n",
       "\n",
       "    .dataframe tbody tr th {\n",
       "        vertical-align: top;\n",
       "    }\n",
       "\n",
       "    .dataframe thead th {\n",
       "        text-align: right;\n",
       "    }\n",
       "</style>\n",
       "<table border=\"1\" class=\"dataframe\">\n",
       "  <thead>\n",
       "    <tr style=\"text-align: right;\">\n",
       "      <th></th>\n",
       "      <th></th>\n",
       "      <th>Qtd</th>\n",
       "    </tr>\n",
       "    <tr>\n",
       "      <th>Year</th>\n",
       "      <th>Medal</th>\n",
       "      <th></th>\n",
       "    </tr>\n",
       "  </thead>\n",
       "  <tbody>\n",
       "    <tr>\n",
       "      <th rowspan=\"3\" valign=\"top\">1896</th>\n",
       "      <th>Bronze</th>\n",
       "      <td>32</td>\n",
       "    </tr>\n",
       "    <tr>\n",
       "      <th>Gold</th>\n",
       "      <td>43</td>\n",
       "    </tr>\n",
       "    <tr>\n",
       "      <th>Silver</th>\n",
       "      <td>41</td>\n",
       "    </tr>\n",
       "    <tr>\n",
       "      <th rowspan=\"3\" valign=\"top\">1900</th>\n",
       "      <th>Bronze</th>\n",
       "      <td>80</td>\n",
       "    </tr>\n",
       "    <tr>\n",
       "      <th>Gold</th>\n",
       "      <td>89</td>\n",
       "    </tr>\n",
       "    <tr>\n",
       "      <th>Silver</th>\n",
       "      <td>86</td>\n",
       "    </tr>\n",
       "    <tr>\n",
       "      <th rowspan=\"3\" valign=\"top\">1904</th>\n",
       "      <th>Bronze</th>\n",
       "      <td>88</td>\n",
       "    </tr>\n",
       "    <tr>\n",
       "      <th>Gold</th>\n",
       "      <td>95</td>\n",
       "    </tr>\n",
       "    <tr>\n",
       "      <th>Silver</th>\n",
       "      <td>92</td>\n",
       "    </tr>\n",
       "    <tr>\n",
       "      <th>1906</th>\n",
       "      <th>Bronze</th>\n",
       "      <td>71</td>\n",
       "    </tr>\n",
       "  </tbody>\n",
       "</table>\n",
       "</div>"
      ],
      "text/plain": [
       "             Qtd\n",
       "Year Medal      \n",
       "1896 Bronze   32\n",
       "     Gold     43\n",
       "     Silver   41\n",
       "1900 Bronze   80\n",
       "     Gold     89\n",
       "     Silver   86\n",
       "1904 Bronze   88\n",
       "     Gold     95\n",
       "     Silver   92\n",
       "1906 Bronze   71"
      ]
     },
     "execution_count": 602,
     "metadata": {},
     "output_type": "execute_result"
    }
   ],
   "source": [
    "df_mundo.groupby(['Year', 'Medal']).size().to_frame(name='Qtd').head(10)"
   ]
  },
  {
   "cell_type": "markdown",
   "metadata": {},
   "source": [
    "## 3. Brasil vs Mundo"
   ]
  },
  {
   "cell_type": "markdown",
   "metadata": {},
   "source": [
    "Para finalizar, vamos fazer algumas comparações entre Brasil e mundo. Qual o ranking do Brasil em cada edição das olimpíadas? Lembrando que o ranking é ordenado por medalhas de ouro."
   ]
  },
  {
   "cell_type": "code",
   "execution_count": 578,
   "metadata": {},
   "outputs": [
    {
     "name": "stdout",
     "output_type": "stream",
     "text": [
      "BRA | 1896 - > Não obteve medalha de ouro\n",
      "BRA | 1900 - > Não obteve medalha de ouro\n",
      "BRA | 1904 - > Não obteve medalha de ouro\n",
      "BRA | 1906 - > Não obteve medalha de ouro\n",
      "BRA | 1908 - > Não obteve medalha de ouro\n",
      "BRA | 1912 - > Não obteve medalha de ouro\n",
      "BRA | 1920 - > 14º\n",
      "BRA | 1924 - > Não obteve medalha de ouro\n",
      "BRA | 1928 - > Não obteve medalha de ouro\n",
      "BRA | 1932 - > Não obteve medalha de ouro\n",
      "BRA | 1936 - > Não obteve medalha de ouro\n",
      "BRA | 1948 - > Não obteve medalha de ouro\n",
      "BRA | 1952 - > 26º\n",
      "BRA | 1956 - > 21º\n",
      "BRA | 1960 - > Não obteve medalha de ouro\n",
      "BRA | 1964 - > Não obteve medalha de ouro\n",
      "BRA | 1968 - > Não obteve medalha de ouro\n",
      "BRA | 1972 - > Não obteve medalha de ouro\n",
      "BRA | 1976 - > Não obteve medalha de ouro\n",
      "BRA | 1980 - > 19º\n",
      "BRA | 1984 - > 24º\n",
      "BRA | 1988 - > 31º\n",
      "BRA | 1992 - > 26º\n",
      "BRA | 1996 - > 23º\n",
      "BRA | 2000 - > Não obteve medalha de ouro\n",
      "BRA | 2004 - > 17º\n",
      "BRA | 2008 - > 20º\n",
      "BRA | 2012 - > 21º\n",
      "BRA | 2016 - > 13º\n"
     ]
    }
   ],
   "source": [
    "def ranking(df=df_mundo, pais='BRA'):\n",
    "    df = df[df['Medal'] == 'Gold']\n",
    "    anos = sorted(df['Year'].unique().tolist())\n",
    "    for ano in anos:\n",
    "        df_rank = df[df['Year'] == ano]\n",
    "        df_rank = df_rank.groupby(['NOC']).size().sort_values(ascending=False).reset_index(name='Qtd')\n",
    "        df_rank['Rank'] = 1\n",
    "        df_rank['Rank'] = df_rank['Rank'].cumsum()\n",
    "        try:\n",
    "            ranking = int(df_rank[df_rank['NOC'] == pais]['Rank'].values)\n",
    "        except:\n",
    "            ranking = 'Não obteve medalha de ouro'\n",
    "            pass\n",
    "        finally:\n",
    "            print(f'{pais} | {ano} - > {ranking}{\"º\" if type(ranking) is int else \"\"}')\n",
    "\n",
    "\n",
    "ranking()\n",
    "    "
   ]
  },
  {
   "cell_type": "markdown",
   "metadata": {},
   "source": [
    "Compare o maior medalhista em ouros do Brasil com o maior medalhista em ouros do mundo."
   ]
  },
  {
   "cell_type": "code",
   "execution_count": 674,
   "metadata": {},
   "outputs": [
    {
     "data": {
      "text/html": [
       "<div>\n",
       "<style scoped>\n",
       "    .dataframe tbody tr th:only-of-type {\n",
       "        vertical-align: middle;\n",
       "    }\n",
       "\n",
       "    .dataframe tbody tr th {\n",
       "        vertical-align: top;\n",
       "    }\n",
       "\n",
       "    .dataframe thead th {\n",
       "        text-align: right;\n",
       "    }\n",
       "</style>\n",
       "<table border=\"1\" class=\"dataframe\">\n",
       "  <thead>\n",
       "    <tr style=\"text-align: right;\">\n",
       "      <th></th>\n",
       "      <th></th>\n",
       "      <th></th>\n",
       "      <th></th>\n",
       "      <th></th>\n",
       "    </tr>\n",
       "    <tr>\n",
       "      <th>NOC</th>\n",
       "      <th>Name</th>\n",
       "      <th>Sex</th>\n",
       "      <th>Year</th>\n",
       "      <th>Event</th>\n",
       "    </tr>\n",
       "  </thead>\n",
       "  <tbody>\n",
       "    <tr>\n",
       "      <th rowspan=\"2\" valign=\"top\">BRA</th>\n",
       "      <th rowspan=\"2\" valign=\"top\">Adhemar Ferreira da Silva</th>\n",
       "      <th rowspan=\"2\" valign=\"top\">M</th>\n",
       "      <th>1952</th>\n",
       "      <th>Athletics Men's Triple Jump</th>\n",
       "    </tr>\n",
       "    <tr>\n",
       "      <th>1956</th>\n",
       "      <th>Athletics Men's Triple Jump</th>\n",
       "    </tr>\n",
       "    <tr>\n",
       "      <th rowspan=\"23\" valign=\"top\">USA</th>\n",
       "      <th rowspan=\"23\" valign=\"top\">Michael Fred Phelps, II</th>\n",
       "      <th rowspan=\"23\" valign=\"top\">M</th>\n",
       "      <th rowspan=\"6\" valign=\"top\">2004</th>\n",
       "      <th>Swimming Men's 100 metres Butterfly</th>\n",
       "    </tr>\n",
       "    <tr>\n",
       "      <th>Swimming Men's 200 metres Butterfly</th>\n",
       "    </tr>\n",
       "    <tr>\n",
       "      <th>Swimming Men's 200 metres Individual Medley</th>\n",
       "    </tr>\n",
       "    <tr>\n",
       "      <th>Swimming Men's 4 x 100 metres Medley Relay</th>\n",
       "    </tr>\n",
       "    <tr>\n",
       "      <th>Swimming Men's 4 x 200 metres Freestyle Relay</th>\n",
       "    </tr>\n",
       "    <tr>\n",
       "      <th>Swimming Men's 400 metres Individual Medley</th>\n",
       "    </tr>\n",
       "    <tr>\n",
       "      <th rowspan=\"8\" valign=\"top\">2008</th>\n",
       "      <th>Swimming Men's 100 metres Butterfly</th>\n",
       "    </tr>\n",
       "    <tr>\n",
       "      <th>Swimming Men's 200 metres Butterfly</th>\n",
       "    </tr>\n",
       "    <tr>\n",
       "      <th>Swimming Men's 200 metres Freestyle</th>\n",
       "    </tr>\n",
       "    <tr>\n",
       "      <th>Swimming Men's 200 metres Individual Medley</th>\n",
       "    </tr>\n",
       "    <tr>\n",
       "      <th>Swimming Men's 4 x 100 metres Freestyle Relay</th>\n",
       "    </tr>\n",
       "    <tr>\n",
       "      <th>Swimming Men's 4 x 100 metres Medley Relay</th>\n",
       "    </tr>\n",
       "    <tr>\n",
       "      <th>Swimming Men's 4 x 200 metres Freestyle Relay</th>\n",
       "    </tr>\n",
       "    <tr>\n",
       "      <th>Swimming Men's 400 metres Individual Medley</th>\n",
       "    </tr>\n",
       "    <tr>\n",
       "      <th rowspan=\"4\" valign=\"top\">2012</th>\n",
       "      <th>Swimming Men's 100 metres Butterfly</th>\n",
       "    </tr>\n",
       "    <tr>\n",
       "      <th>Swimming Men's 200 metres Individual Medley</th>\n",
       "    </tr>\n",
       "    <tr>\n",
       "      <th>Swimming Men's 4 x 100 metres Medley Relay</th>\n",
       "    </tr>\n",
       "    <tr>\n",
       "      <th>Swimming Men's 4 x 200 metres Freestyle Relay</th>\n",
       "    </tr>\n",
       "    <tr>\n",
       "      <th rowspan=\"5\" valign=\"top\">2016</th>\n",
       "      <th>Swimming Men's 200 metres Butterfly</th>\n",
       "    </tr>\n",
       "    <tr>\n",
       "      <th>Swimming Men's 200 metres Individual Medley</th>\n",
       "    </tr>\n",
       "    <tr>\n",
       "      <th>Swimming Men's 4 x 100 metres Freestyle Relay</th>\n",
       "    </tr>\n",
       "    <tr>\n",
       "      <th>Swimming Men's 4 x 100 metres Medley Relay</th>\n",
       "    </tr>\n",
       "    <tr>\n",
       "      <th>Swimming Men's 4 x 200 metres Freestyle Relay</th>\n",
       "    </tr>\n",
       "  </tbody>\n",
       "</table>\n",
       "</div>"
      ],
      "text/plain": [
       "Empty DataFrame\n",
       "Columns: []\n",
       "Index: [(BRA, Adhemar Ferreira da Silva, M, 1952, Athletics Men's Triple Jump), (BRA, Adhemar Ferreira da Silva, M, 1956, Athletics Men's Triple Jump), (USA, Michael Fred Phelps, II, M, 2004, Swimming Men's 100 metres Butterfly), (USA, Michael Fred Phelps, II, M, 2004, Swimming Men's 200 metres Butterfly), (USA, Michael Fred Phelps, II, M, 2004, Swimming Men's 200 metres Individual Medley), (USA, Michael Fred Phelps, II, M, 2004, Swimming Men's 4 x 100 metres Medley Relay), (USA, Michael Fred Phelps, II, M, 2004, Swimming Men's 4 x 200 metres Freestyle Relay), (USA, Michael Fred Phelps, II, M, 2004, Swimming Men's 400 metres Individual Medley), (USA, Michael Fred Phelps, II, M, 2008, Swimming Men's 100 metres Butterfly), (USA, Michael Fred Phelps, II, M, 2008, Swimming Men's 200 metres Butterfly), (USA, Michael Fred Phelps, II, M, 2008, Swimming Men's 200 metres Freestyle), (USA, Michael Fred Phelps, II, M, 2008, Swimming Men's 200 metres Individual Medley), (USA, Michael Fred Phelps, II, M, 2008, Swimming Men's 4 x 100 metres Freestyle Relay), (USA, Michael Fred Phelps, II, M, 2008, Swimming Men's 4 x 100 metres Medley Relay), (USA, Michael Fred Phelps, II, M, 2008, Swimming Men's 4 x 200 metres Freestyle Relay), (USA, Michael Fred Phelps, II, M, 2008, Swimming Men's 400 metres Individual Medley), (USA, Michael Fred Phelps, II, M, 2012, Swimming Men's 100 metres Butterfly), (USA, Michael Fred Phelps, II, M, 2012, Swimming Men's 200 metres Individual Medley), (USA, Michael Fred Phelps, II, M, 2012, Swimming Men's 4 x 100 metres Medley Relay), (USA, Michael Fred Phelps, II, M, 2012, Swimming Men's 4 x 200 metres Freestyle Relay), (USA, Michael Fred Phelps, II, M, 2016, Swimming Men's 200 metres Butterfly), (USA, Michael Fred Phelps, II, M, 2016, Swimming Men's 200 metres Individual Medley), (USA, Michael Fred Phelps, II, M, 2016, Swimming Men's 4 x 100 metres Freestyle Relay), (USA, Michael Fred Phelps, II, M, 2016, Swimming Men's 4 x 100 metres Medley Relay), (USA, Michael Fred Phelps, II, M, 2016, Swimming Men's 4 x 200 metres Freestyle Relay)]"
      ]
     },
     "execution_count": 674,
     "metadata": {},
     "output_type": "execute_result"
    }
   ],
   "source": [
    "df_mundo_au = df_olimpiadas[(df_olimpiadas['Medal'] == 'Gold') & (df_olimpiadas['Season'] == 'Summer')]\n",
    "\n",
    "medalhista_br_au = df_mundo_au[df_mundo_au['NOC'] == 'BRA'].groupby('Name').size().idxmax()\n",
    "\n",
    "medalhista_mundo_au = df_mundo_au.groupby('Name').size().idxmax()\n",
    "\n",
    "colunas = ['NOC', 'Name', 'Sex', 'Year', 'Event']\n",
    "\n",
    "df_brasil_au = df_mundo_au[df_mundo_au['Name'] == medalhista_br_au][colunas].groupby(colunas).size().to_frame(name='ignore').drop(columns='ignore')\n",
    "df_med_mundo_au = df_mundo_au[df_mundo_au['Name'] == medalhista_mundo_au][colunas].groupby(colunas).size().to_frame(name='ignore').drop(columns='ignore')\n",
    "\n",
    "pd.concat([df_brasil_au, df_med_mundo_au], axis='rows')\n"
   ]
  },
  {
   "cell_type": "markdown",
   "metadata": {},
   "source": [
    "Compare o maior medalhista em total de medalhas do Brasil com o maior medalhista em total de medalhas do mundo."
   ]
  },
  {
   "cell_type": "code",
   "execution_count": 673,
   "metadata": {},
   "outputs": [
    {
     "data": {
      "text/html": [
       "<div>\n",
       "<style scoped>\n",
       "    .dataframe tbody tr th:only-of-type {\n",
       "        vertical-align: middle;\n",
       "    }\n",
       "\n",
       "    .dataframe tbody tr th {\n",
       "        vertical-align: top;\n",
       "    }\n",
       "\n",
       "    .dataframe thead th {\n",
       "        text-align: right;\n",
       "    }\n",
       "</style>\n",
       "<table border=\"1\" class=\"dataframe\">\n",
       "  <thead>\n",
       "    <tr style=\"text-align: right;\">\n",
       "      <th></th>\n",
       "      <th></th>\n",
       "      <th></th>\n",
       "      <th></th>\n",
       "      <th></th>\n",
       "    </tr>\n",
       "    <tr>\n",
       "      <th>NOC</th>\n",
       "      <th>Name</th>\n",
       "      <th>Sex</th>\n",
       "      <th>Year</th>\n",
       "      <th>Event</th>\n",
       "    </tr>\n",
       "  </thead>\n",
       "  <tbody>\n",
       "    <tr>\n",
       "      <th rowspan=\"5\" valign=\"top\">BRA</th>\n",
       "      <th rowspan=\"5\" valign=\"top\">Robert Scheidt</th>\n",
       "      <th rowspan=\"5\" valign=\"top\">M</th>\n",
       "      <th>1996</th>\n",
       "      <th>Sailing Mixed One Person Dinghy</th>\n",
       "    </tr>\n",
       "    <tr>\n",
       "      <th>2000</th>\n",
       "      <th>Sailing Mixed One Person Dinghy</th>\n",
       "    </tr>\n",
       "    <tr>\n",
       "      <th>2004</th>\n",
       "      <th>Sailing Mixed One Person Dinghy</th>\n",
       "    </tr>\n",
       "    <tr>\n",
       "      <th>2008</th>\n",
       "      <th>Sailing Men's Two Person Keelboat</th>\n",
       "    </tr>\n",
       "    <tr>\n",
       "      <th>2012</th>\n",
       "      <th>Sailing Men's Two Person Keelboat</th>\n",
       "    </tr>\n",
       "    <tr>\n",
       "      <th rowspan=\"28\" valign=\"top\">USA</th>\n",
       "      <th rowspan=\"28\" valign=\"top\">Michael Fred Phelps, II</th>\n",
       "      <th rowspan=\"28\" valign=\"top\">M</th>\n",
       "      <th rowspan=\"8\" valign=\"top\">2004</th>\n",
       "      <th>Swimming Men's 100 metres Butterfly</th>\n",
       "    </tr>\n",
       "    <tr>\n",
       "      <th>Swimming Men's 200 metres Butterfly</th>\n",
       "    </tr>\n",
       "    <tr>\n",
       "      <th>Swimming Men's 200 metres Freestyle</th>\n",
       "    </tr>\n",
       "    <tr>\n",
       "      <th>Swimming Men's 200 metres Individual Medley</th>\n",
       "    </tr>\n",
       "    <tr>\n",
       "      <th>Swimming Men's 4 x 100 metres Freestyle Relay</th>\n",
       "    </tr>\n",
       "    <tr>\n",
       "      <th>Swimming Men's 4 x 100 metres Medley Relay</th>\n",
       "    </tr>\n",
       "    <tr>\n",
       "      <th>Swimming Men's 4 x 200 metres Freestyle Relay</th>\n",
       "    </tr>\n",
       "    <tr>\n",
       "      <th>Swimming Men's 400 metres Individual Medley</th>\n",
       "    </tr>\n",
       "    <tr>\n",
       "      <th rowspan=\"8\" valign=\"top\">2008</th>\n",
       "      <th>Swimming Men's 100 metres Butterfly</th>\n",
       "    </tr>\n",
       "    <tr>\n",
       "      <th>Swimming Men's 200 metres Butterfly</th>\n",
       "    </tr>\n",
       "    <tr>\n",
       "      <th>Swimming Men's 200 metres Freestyle</th>\n",
       "    </tr>\n",
       "    <tr>\n",
       "      <th>Swimming Men's 200 metres Individual Medley</th>\n",
       "    </tr>\n",
       "    <tr>\n",
       "      <th>Swimming Men's 4 x 100 metres Freestyle Relay</th>\n",
       "    </tr>\n",
       "    <tr>\n",
       "      <th>Swimming Men's 4 x 100 metres Medley Relay</th>\n",
       "    </tr>\n",
       "    <tr>\n",
       "      <th>Swimming Men's 4 x 200 metres Freestyle Relay</th>\n",
       "    </tr>\n",
       "    <tr>\n",
       "      <th>Swimming Men's 400 metres Individual Medley</th>\n",
       "    </tr>\n",
       "    <tr>\n",
       "      <th rowspan=\"6\" valign=\"top\">2012</th>\n",
       "      <th>Swimming Men's 100 metres Butterfly</th>\n",
       "    </tr>\n",
       "    <tr>\n",
       "      <th>Swimming Men's 200 metres Butterfly</th>\n",
       "    </tr>\n",
       "    <tr>\n",
       "      <th>Swimming Men's 200 metres Individual Medley</th>\n",
       "    </tr>\n",
       "    <tr>\n",
       "      <th>Swimming Men's 4 x 100 metres Freestyle Relay</th>\n",
       "    </tr>\n",
       "    <tr>\n",
       "      <th>Swimming Men's 4 x 100 metres Medley Relay</th>\n",
       "    </tr>\n",
       "    <tr>\n",
       "      <th>Swimming Men's 4 x 200 metres Freestyle Relay</th>\n",
       "    </tr>\n",
       "    <tr>\n",
       "      <th rowspan=\"6\" valign=\"top\">2016</th>\n",
       "      <th>Swimming Men's 100 metres Butterfly</th>\n",
       "    </tr>\n",
       "    <tr>\n",
       "      <th>Swimming Men's 200 metres Butterfly</th>\n",
       "    </tr>\n",
       "    <tr>\n",
       "      <th>Swimming Men's 200 metres Individual Medley</th>\n",
       "    </tr>\n",
       "    <tr>\n",
       "      <th>Swimming Men's 4 x 100 metres Freestyle Relay</th>\n",
       "    </tr>\n",
       "    <tr>\n",
       "      <th>Swimming Men's 4 x 100 metres Medley Relay</th>\n",
       "    </tr>\n",
       "    <tr>\n",
       "      <th>Swimming Men's 4 x 200 metres Freestyle Relay</th>\n",
       "    </tr>\n",
       "  </tbody>\n",
       "</table>\n",
       "</div>"
      ],
      "text/plain": [
       "Empty DataFrame\n",
       "Columns: []\n",
       "Index: [(BRA, Robert Scheidt, M, 1996, Sailing Mixed One Person Dinghy), (BRA, Robert Scheidt, M, 2000, Sailing Mixed One Person Dinghy), (BRA, Robert Scheidt, M, 2004, Sailing Mixed One Person Dinghy), (BRA, Robert Scheidt, M, 2008, Sailing Men's Two Person Keelboat), (BRA, Robert Scheidt, M, 2012, Sailing Men's Two Person Keelboat), (USA, Michael Fred Phelps, II, M, 2004, Swimming Men's 100 metres Butterfly), (USA, Michael Fred Phelps, II, M, 2004, Swimming Men's 200 metres Butterfly), (USA, Michael Fred Phelps, II, M, 2004, Swimming Men's 200 metres Freestyle), (USA, Michael Fred Phelps, II, M, 2004, Swimming Men's 200 metres Individual Medley), (USA, Michael Fred Phelps, II, M, 2004, Swimming Men's 4 x 100 metres Freestyle Relay), (USA, Michael Fred Phelps, II, M, 2004, Swimming Men's 4 x 100 metres Medley Relay), (USA, Michael Fred Phelps, II, M, 2004, Swimming Men's 4 x 200 metres Freestyle Relay), (USA, Michael Fred Phelps, II, M, 2004, Swimming Men's 400 metres Individual Medley), (USA, Michael Fred Phelps, II, M, 2008, Swimming Men's 100 metres Butterfly), (USA, Michael Fred Phelps, II, M, 2008, Swimming Men's 200 metres Butterfly), (USA, Michael Fred Phelps, II, M, 2008, Swimming Men's 200 metres Freestyle), (USA, Michael Fred Phelps, II, M, 2008, Swimming Men's 200 metres Individual Medley), (USA, Michael Fred Phelps, II, M, 2008, Swimming Men's 4 x 100 metres Freestyle Relay), (USA, Michael Fred Phelps, II, M, 2008, Swimming Men's 4 x 100 metres Medley Relay), (USA, Michael Fred Phelps, II, M, 2008, Swimming Men's 4 x 200 metres Freestyle Relay), (USA, Michael Fred Phelps, II, M, 2008, Swimming Men's 400 metres Individual Medley), (USA, Michael Fred Phelps, II, M, 2012, Swimming Men's 100 metres Butterfly), (USA, Michael Fred Phelps, II, M, 2012, Swimming Men's 200 metres Butterfly), (USA, Michael Fred Phelps, II, M, 2012, Swimming Men's 200 metres Individual Medley), (USA, Michael Fred Phelps, II, M, 2012, Swimming Men's 4 x 100 metres Freestyle Relay), (USA, Michael Fred Phelps, II, M, 2012, Swimming Men's 4 x 100 metres Medley Relay), (USA, Michael Fred Phelps, II, M, 2012, Swimming Men's 4 x 200 metres Freestyle Relay), (USA, Michael Fred Phelps, II, M, 2016, Swimming Men's 100 metres Butterfly), (USA, Michael Fred Phelps, II, M, 2016, Swimming Men's 200 metres Butterfly), (USA, Michael Fred Phelps, II, M, 2016, Swimming Men's 200 metres Individual Medley), (USA, Michael Fred Phelps, II, M, 2016, Swimming Men's 4 x 100 metres Freestyle Relay), (USA, Michael Fred Phelps, II, M, 2016, Swimming Men's 4 x 100 metres Medley Relay), (USA, Michael Fred Phelps, II, M, 2016, Swimming Men's 4 x 200 metres Freestyle Relay)]"
      ]
     },
     "execution_count": 673,
     "metadata": {},
     "output_type": "execute_result"
    }
   ],
   "source": [
    "df_mundo = df_olimpiadas[(~df_olimpiadas['Medal'].isna()) & (df_olimpiadas['Season'] == 'Summer')]\n",
    "\n",
    "medalhista_br = df_mundo[df_mundo['NOC'] == 'BRA'].groupby('Name').size().idxmax()\n",
    "\n",
    "medalhista_mundo = df_mundo.groupby('Name').size().idxmax()\n",
    "\n",
    "df_brasil = df_mundo[df_mundo['Name'] == medalhista_br][colunas].groupby(colunas).size().to_frame(name='ignore').drop(columns='ignore')\n",
    "df_med_mundo = df_mundo[df_mundo['Name'] == medalhista_mundo][colunas].groupby(colunas).size().to_frame(name='ignore').drop(columns='ignore')\n",
    "\n",
    "pd.concat([df_brasil, df_med_mundo], axis='rows')"
   ]
  },
  {
   "cell_type": "markdown",
   "metadata": {},
   "source": [
    "Compare o maior medalhista em ouros do Brasil com o maior medalhista do mundo no mesmo esporte."
   ]
  },
  {
   "cell_type": "code",
   "execution_count": 691,
   "metadata": {},
   "outputs": [
    {
     "data": {
      "text/html": [
       "<div>\n",
       "<style scoped>\n",
       "    .dataframe tbody tr th:only-of-type {\n",
       "        vertical-align: middle;\n",
       "    }\n",
       "\n",
       "    .dataframe tbody tr th {\n",
       "        vertical-align: top;\n",
       "    }\n",
       "\n",
       "    .dataframe thead th {\n",
       "        text-align: right;\n",
       "    }\n",
       "</style>\n",
       "<table border=\"1\" class=\"dataframe\">\n",
       "  <thead>\n",
       "    <tr style=\"text-align: right;\">\n",
       "      <th></th>\n",
       "      <th></th>\n",
       "      <th></th>\n",
       "      <th></th>\n",
       "      <th></th>\n",
       "    </tr>\n",
       "    <tr>\n",
       "      <th>NOC</th>\n",
       "      <th>Name</th>\n",
       "      <th>Sex</th>\n",
       "      <th>Year</th>\n",
       "      <th>Event</th>\n",
       "    </tr>\n",
       "  </thead>\n",
       "  <tbody>\n",
       "    <tr>\n",
       "      <th rowspan=\"2\" valign=\"top\">BRA</th>\n",
       "      <th rowspan=\"2\" valign=\"top\">Adhemar Ferreira da Silva</th>\n",
       "      <th rowspan=\"2\" valign=\"top\">M</th>\n",
       "      <th>1952</th>\n",
       "      <th>Athletics Men's Triple Jump</th>\n",
       "    </tr>\n",
       "    <tr>\n",
       "      <th>1956</th>\n",
       "      <th>Athletics Men's Triple Jump</th>\n",
       "    </tr>\n",
       "    <tr>\n",
       "      <th rowspan=\"12\" valign=\"top\">FIN</th>\n",
       "      <th rowspan=\"12\" valign=\"top\">Paavo Johannes Nurmi</th>\n",
       "      <th rowspan=\"12\" valign=\"top\">M</th>\n",
       "      <th rowspan=\"4\" valign=\"top\">1920</th>\n",
       "      <th>Athletics Men's 10,000 metres</th>\n",
       "    </tr>\n",
       "    <tr>\n",
       "      <th>Athletics Men's 5,000 metres</th>\n",
       "    </tr>\n",
       "    <tr>\n",
       "      <th>Athletics Men's Cross-Country, Individual</th>\n",
       "    </tr>\n",
       "    <tr>\n",
       "      <th>Athletics Men's Cross-Country, Team</th>\n",
       "    </tr>\n",
       "    <tr>\n",
       "      <th rowspan=\"5\" valign=\"top\">1924</th>\n",
       "      <th>Athletics Men's 1,500 metres</th>\n",
       "    </tr>\n",
       "    <tr>\n",
       "      <th>Athletics Men's 3,000 metres, Team</th>\n",
       "    </tr>\n",
       "    <tr>\n",
       "      <th>Athletics Men's 5,000 metres</th>\n",
       "    </tr>\n",
       "    <tr>\n",
       "      <th>Athletics Men's Cross-Country, Individual</th>\n",
       "    </tr>\n",
       "    <tr>\n",
       "      <th>Athletics Men's Cross-Country, Team</th>\n",
       "    </tr>\n",
       "    <tr>\n",
       "      <th rowspan=\"3\" valign=\"top\">1928</th>\n",
       "      <th>Athletics Men's 10,000 metres</th>\n",
       "    </tr>\n",
       "    <tr>\n",
       "      <th>Athletics Men's 3,000 metres Steeplechase</th>\n",
       "    </tr>\n",
       "    <tr>\n",
       "      <th>Athletics Men's 5,000 metres</th>\n",
       "    </tr>\n",
       "  </tbody>\n",
       "</table>\n",
       "</div>"
      ],
      "text/plain": [
       "Empty DataFrame\n",
       "Columns: []\n",
       "Index: [(BRA, Adhemar Ferreira da Silva, M, 1952, Athletics Men's Triple Jump), (BRA, Adhemar Ferreira da Silva, M, 1956, Athletics Men's Triple Jump), (FIN, Paavo Johannes Nurmi, M, 1920, Athletics Men's 10,000 metres), (FIN, Paavo Johannes Nurmi, M, 1920, Athletics Men's 5,000 metres), (FIN, Paavo Johannes Nurmi, M, 1920, Athletics Men's Cross-Country, Individual), (FIN, Paavo Johannes Nurmi, M, 1920, Athletics Men's Cross-Country, Team), (FIN, Paavo Johannes Nurmi, M, 1924, Athletics Men's 1,500 metres), (FIN, Paavo Johannes Nurmi, M, 1924, Athletics Men's 3,000 metres, Team), (FIN, Paavo Johannes Nurmi, M, 1924, Athletics Men's 5,000 metres), (FIN, Paavo Johannes Nurmi, M, 1924, Athletics Men's Cross-Country, Individual), (FIN, Paavo Johannes Nurmi, M, 1924, Athletics Men's Cross-Country, Team), (FIN, Paavo Johannes Nurmi, M, 1928, Athletics Men's 10,000 metres), (FIN, Paavo Johannes Nurmi, M, 1928, Athletics Men's 3,000 metres Steeplechase), (FIN, Paavo Johannes Nurmi, M, 1928, Athletics Men's 5,000 metres)]"
      ]
     },
     "execution_count": 691,
     "metadata": {},
     "output_type": "execute_result"
    }
   ],
   "source": [
    "esporte = df_mundo[df_mundo['Name'] == medalhista_br_au]['Sport'].unique()[0]\n",
    "\n",
    "nome_medalhista_esporte = df_mundo[df_mundo['Sport'] == esporte].groupby('Name').size().idxmax()\n",
    "\n",
    "df_medalhista_esporte = df_mundo[df_mundo['Name'] == nome_medalhista_esporte][colunas].groupby(colunas).size().to_frame(name='ignore').drop(columns='ignore')\n",
    "\n",
    "pd.concat([df_brasil_au, df_medalhista_esporte], axis='rows')"
   ]
  },
  {
   "cell_type": "markdown",
   "metadata": {},
   "source": [
    "Compare o maior medalhista em total de medalhas do Brasil com o maior medalhista do mundo no mesmo esporte."
   ]
  },
  {
   "cell_type": "code",
   "execution_count": 694,
   "metadata": {},
   "outputs": [
    {
     "data": {
      "text/html": [
       "<div>\n",
       "<style scoped>\n",
       "    .dataframe tbody tr th:only-of-type {\n",
       "        vertical-align: middle;\n",
       "    }\n",
       "\n",
       "    .dataframe tbody tr th {\n",
       "        vertical-align: top;\n",
       "    }\n",
       "\n",
       "    .dataframe thead th {\n",
       "        text-align: right;\n",
       "    }\n",
       "</style>\n",
       "<table border=\"1\" class=\"dataframe\">\n",
       "  <thead>\n",
       "    <tr style=\"text-align: right;\">\n",
       "      <th></th>\n",
       "      <th></th>\n",
       "      <th></th>\n",
       "      <th></th>\n",
       "      <th></th>\n",
       "    </tr>\n",
       "    <tr>\n",
       "      <th>NOC</th>\n",
       "      <th>Name</th>\n",
       "      <th>Sex</th>\n",
       "      <th>Year</th>\n",
       "      <th>Event</th>\n",
       "    </tr>\n",
       "  </thead>\n",
       "  <tbody>\n",
       "    <tr>\n",
       "      <th rowspan=\"5\" valign=\"top\">BRA</th>\n",
       "      <th rowspan=\"5\" valign=\"top\">Robert Scheidt</th>\n",
       "      <th rowspan=\"5\" valign=\"top\">M</th>\n",
       "      <th>1996</th>\n",
       "      <th>Sailing Mixed One Person Dinghy</th>\n",
       "    </tr>\n",
       "    <tr>\n",
       "      <th>2000</th>\n",
       "      <th>Sailing Mixed One Person Dinghy</th>\n",
       "    </tr>\n",
       "    <tr>\n",
       "      <th>2004</th>\n",
       "      <th>Sailing Mixed One Person Dinghy</th>\n",
       "    </tr>\n",
       "    <tr>\n",
       "      <th>2008</th>\n",
       "      <th>Sailing Men's Two Person Keelboat</th>\n",
       "    </tr>\n",
       "    <tr>\n",
       "      <th>2012</th>\n",
       "      <th>Sailing Men's Two Person Keelboat</th>\n",
       "    </tr>\n",
       "    <tr>\n",
       "      <th rowspan=\"5\" valign=\"top\">GBR</th>\n",
       "      <th rowspan=\"5\" valign=\"top\">Charles Benedict \"Ben\" Ainslie</th>\n",
       "      <th rowspan=\"5\" valign=\"top\">M</th>\n",
       "      <th>1996</th>\n",
       "      <th>Sailing Mixed One Person Dinghy</th>\n",
       "    </tr>\n",
       "    <tr>\n",
       "      <th>2000</th>\n",
       "      <th>Sailing Mixed One Person Dinghy</th>\n",
       "    </tr>\n",
       "    <tr>\n",
       "      <th>2004</th>\n",
       "      <th>Sailing Men's One Person Dinghy</th>\n",
       "    </tr>\n",
       "    <tr>\n",
       "      <th>2008</th>\n",
       "      <th>Sailing Mixed One Person Dinghy</th>\n",
       "    </tr>\n",
       "    <tr>\n",
       "      <th>2012</th>\n",
       "      <th>Sailing Men's One Person Heavyweight Dinghy</th>\n",
       "    </tr>\n",
       "  </tbody>\n",
       "</table>\n",
       "</div>"
      ],
      "text/plain": [
       "Empty DataFrame\n",
       "Columns: []\n",
       "Index: [(BRA, Robert Scheidt, M, 1996, Sailing Mixed One Person Dinghy), (BRA, Robert Scheidt, M, 2000, Sailing Mixed One Person Dinghy), (BRA, Robert Scheidt, M, 2004, Sailing Mixed One Person Dinghy), (BRA, Robert Scheidt, M, 2008, Sailing Men's Two Person Keelboat), (BRA, Robert Scheidt, M, 2012, Sailing Men's Two Person Keelboat), (GBR, Charles Benedict \"Ben\" Ainslie, M, 1996, Sailing Mixed One Person Dinghy), (GBR, Charles Benedict \"Ben\" Ainslie, M, 2000, Sailing Mixed One Person Dinghy), (GBR, Charles Benedict \"Ben\" Ainslie, M, 2004, Sailing Men's One Person Dinghy), (GBR, Charles Benedict \"Ben\" Ainslie, M, 2008, Sailing Mixed One Person Dinghy), (GBR, Charles Benedict \"Ben\" Ainslie, M, 2012, Sailing Men's One Person Heavyweight Dinghy)]"
      ]
     },
     "execution_count": 694,
     "metadata": {},
     "output_type": "execute_result"
    }
   ],
   "source": [
    "esporte = df_mundo[df_mundo['Name'] == medalhista_br]['Sport'].unique()[0]\n",
    "\n",
    "nome_medalhista_esporte = df_mundo[df_mundo['Sport'] == esporte].groupby('Name').size().idxmax()\n",
    "\n",
    "df_medalhista_esporte = df_mundo[df_mundo['Name'] == nome_medalhista_esporte][colunas].groupby(colunas).size().to_frame(name='ignore').drop(columns='ignore')\n",
    "\n",
    "pd.concat([df_brasil, df_medalhista_esporte], axis='rows')"
   ]
  },
  {
   "cell_type": "markdown",
   "metadata": {},
   "source": [
    "Calcule o percentual de medalhas de ouro, prata e bronze que o Brasil ganhou em cada olimpíada."
   ]
  },
  {
   "cell_type": "code",
   "execution_count": 719,
   "metadata": {},
   "outputs": [
    {
     "data": {
      "text/html": [
       "<div>\n",
       "<style scoped>\n",
       "    .dataframe tbody tr th:only-of-type {\n",
       "        vertical-align: middle;\n",
       "    }\n",
       "\n",
       "    .dataframe tbody tr th {\n",
       "        vertical-align: top;\n",
       "    }\n",
       "\n",
       "    .dataframe thead th {\n",
       "        text-align: right;\n",
       "    }\n",
       "</style>\n",
       "<table border=\"1\" class=\"dataframe\">\n",
       "  <thead>\n",
       "    <tr style=\"text-align: right;\">\n",
       "      <th></th>\n",
       "      <th>Medal</th>\n",
       "      <th>%</th>\n",
       "    </tr>\n",
       "  </thead>\n",
       "  <tbody>\n",
       "    <tr>\n",
       "      <th>0</th>\n",
       "      <td>Bronze</td>\n",
       "      <td>48.44</td>\n",
       "    </tr>\n",
       "    <tr>\n",
       "      <th>1</th>\n",
       "      <td>Gold</td>\n",
       "      <td>23.44</td>\n",
       "    </tr>\n",
       "    <tr>\n",
       "      <th>2</th>\n",
       "      <td>Silver</td>\n",
       "      <td>28.12</td>\n",
       "    </tr>\n",
       "  </tbody>\n",
       "</table>\n",
       "</div>"
      ],
      "text/plain": [
       "    Medal      %\n",
       "0  Bronze  48.44\n",
       "1    Gold  23.44\n",
       "2  Silver  28.12"
      ]
     },
     "execution_count": 719,
     "metadata": {},
     "output_type": "execute_result"
    }
   ],
   "source": [
    "df_med = df_br.groupby('Medal')['Medal'].count()/df_br['Medal'].count()*100\n",
    "\n",
    "df_med = df_med.round(2).reset_index(name='%')\n",
    "df_med"
   ]
  },
  {
   "cell_type": "code",
   "execution_count": 725,
   "metadata": {},
   "outputs": [
    {
     "data": {
      "application/vnd.plotly.v1+json": {
       "config": {
        "plotlyServerURL": "https://plot.ly"
       },
       "data": [
        {
         "alignmentgroup": "True",
         "hovertemplate": "Medal=%{x}<br>%=%{y}<extra></extra>",
         "legendgroup": "Bronze",
         "marker": {
          "color": "#636efa",
          "pattern": {
           "shape": ""
          }
         },
         "name": "Bronze",
         "offsetgroup": "Bronze",
         "orientation": "v",
         "showlegend": true,
         "textposition": "auto",
         "type": "bar",
         "x": [
          "Bronze"
         ],
         "xaxis": "x",
         "y": [
          48.44
         ],
         "yaxis": "y"
        },
        {
         "alignmentgroup": "True",
         "hovertemplate": "Medal=%{x}<br>%=%{y}<extra></extra>",
         "legendgroup": "Silver",
         "marker": {
          "color": "#EF553B",
          "pattern": {
           "shape": ""
          }
         },
         "name": "Silver",
         "offsetgroup": "Silver",
         "orientation": "v",
         "showlegend": true,
         "textposition": "auto",
         "type": "bar",
         "x": [
          "Silver"
         ],
         "xaxis": "x",
         "y": [
          28.12
         ],
         "yaxis": "y"
        },
        {
         "alignmentgroup": "True",
         "hovertemplate": "Medal=%{x}<br>%=%{y}<extra></extra>",
         "legendgroup": "Gold",
         "marker": {
          "color": "#00cc96",
          "pattern": {
           "shape": ""
          }
         },
         "name": "Gold",
         "offsetgroup": "Gold",
         "orientation": "v",
         "showlegend": true,
         "textposition": "auto",
         "type": "bar",
         "x": [
          "Gold"
         ],
         "xaxis": "x",
         "y": [
          23.44
         ],
         "yaxis": "y"
        }
       ],
       "layout": {
        "barmode": "relative",
        "legend": {
         "title": {
          "text": "Medal"
         },
         "tracegroupgap": 0
        },
        "margin": {
         "t": 60
        },
        "template": {
         "data": {
          "bar": [
           {
            "error_x": {
             "color": "#2a3f5f"
            },
            "error_y": {
             "color": "#2a3f5f"
            },
            "marker": {
             "line": {
              "color": "#E5ECF6",
              "width": 0.5
             },
             "pattern": {
              "fillmode": "overlay",
              "size": 10,
              "solidity": 0.2
             }
            },
            "type": "bar"
           }
          ],
          "barpolar": [
           {
            "marker": {
             "line": {
              "color": "#E5ECF6",
              "width": 0.5
             },
             "pattern": {
              "fillmode": "overlay",
              "size": 10,
              "solidity": 0.2
             }
            },
            "type": "barpolar"
           }
          ],
          "carpet": [
           {
            "aaxis": {
             "endlinecolor": "#2a3f5f",
             "gridcolor": "white",
             "linecolor": "white",
             "minorgridcolor": "white",
             "startlinecolor": "#2a3f5f"
            },
            "baxis": {
             "endlinecolor": "#2a3f5f",
             "gridcolor": "white",
             "linecolor": "white",
             "minorgridcolor": "white",
             "startlinecolor": "#2a3f5f"
            },
            "type": "carpet"
           }
          ],
          "choropleth": [
           {
            "colorbar": {
             "outlinewidth": 0,
             "ticks": ""
            },
            "type": "choropleth"
           }
          ],
          "contour": [
           {
            "colorbar": {
             "outlinewidth": 0,
             "ticks": ""
            },
            "colorscale": [
             [
              0,
              "#0d0887"
             ],
             [
              0.1111111111111111,
              "#46039f"
             ],
             [
              0.2222222222222222,
              "#7201a8"
             ],
             [
              0.3333333333333333,
              "#9c179e"
             ],
             [
              0.4444444444444444,
              "#bd3786"
             ],
             [
              0.5555555555555556,
              "#d8576b"
             ],
             [
              0.6666666666666666,
              "#ed7953"
             ],
             [
              0.7777777777777778,
              "#fb9f3a"
             ],
             [
              0.8888888888888888,
              "#fdca26"
             ],
             [
              1,
              "#f0f921"
             ]
            ],
            "type": "contour"
           }
          ],
          "contourcarpet": [
           {
            "colorbar": {
             "outlinewidth": 0,
             "ticks": ""
            },
            "type": "contourcarpet"
           }
          ],
          "heatmap": [
           {
            "colorbar": {
             "outlinewidth": 0,
             "ticks": ""
            },
            "colorscale": [
             [
              0,
              "#0d0887"
             ],
             [
              0.1111111111111111,
              "#46039f"
             ],
             [
              0.2222222222222222,
              "#7201a8"
             ],
             [
              0.3333333333333333,
              "#9c179e"
             ],
             [
              0.4444444444444444,
              "#bd3786"
             ],
             [
              0.5555555555555556,
              "#d8576b"
             ],
             [
              0.6666666666666666,
              "#ed7953"
             ],
             [
              0.7777777777777778,
              "#fb9f3a"
             ],
             [
              0.8888888888888888,
              "#fdca26"
             ],
             [
              1,
              "#f0f921"
             ]
            ],
            "type": "heatmap"
           }
          ],
          "heatmapgl": [
           {
            "colorbar": {
             "outlinewidth": 0,
             "ticks": ""
            },
            "colorscale": [
             [
              0,
              "#0d0887"
             ],
             [
              0.1111111111111111,
              "#46039f"
             ],
             [
              0.2222222222222222,
              "#7201a8"
             ],
             [
              0.3333333333333333,
              "#9c179e"
             ],
             [
              0.4444444444444444,
              "#bd3786"
             ],
             [
              0.5555555555555556,
              "#d8576b"
             ],
             [
              0.6666666666666666,
              "#ed7953"
             ],
             [
              0.7777777777777778,
              "#fb9f3a"
             ],
             [
              0.8888888888888888,
              "#fdca26"
             ],
             [
              1,
              "#f0f921"
             ]
            ],
            "type": "heatmapgl"
           }
          ],
          "histogram": [
           {
            "marker": {
             "pattern": {
              "fillmode": "overlay",
              "size": 10,
              "solidity": 0.2
             }
            },
            "type": "histogram"
           }
          ],
          "histogram2d": [
           {
            "colorbar": {
             "outlinewidth": 0,
             "ticks": ""
            },
            "colorscale": [
             [
              0,
              "#0d0887"
             ],
             [
              0.1111111111111111,
              "#46039f"
             ],
             [
              0.2222222222222222,
              "#7201a8"
             ],
             [
              0.3333333333333333,
              "#9c179e"
             ],
             [
              0.4444444444444444,
              "#bd3786"
             ],
             [
              0.5555555555555556,
              "#d8576b"
             ],
             [
              0.6666666666666666,
              "#ed7953"
             ],
             [
              0.7777777777777778,
              "#fb9f3a"
             ],
             [
              0.8888888888888888,
              "#fdca26"
             ],
             [
              1,
              "#f0f921"
             ]
            ],
            "type": "histogram2d"
           }
          ],
          "histogram2dcontour": [
           {
            "colorbar": {
             "outlinewidth": 0,
             "ticks": ""
            },
            "colorscale": [
             [
              0,
              "#0d0887"
             ],
             [
              0.1111111111111111,
              "#46039f"
             ],
             [
              0.2222222222222222,
              "#7201a8"
             ],
             [
              0.3333333333333333,
              "#9c179e"
             ],
             [
              0.4444444444444444,
              "#bd3786"
             ],
             [
              0.5555555555555556,
              "#d8576b"
             ],
             [
              0.6666666666666666,
              "#ed7953"
             ],
             [
              0.7777777777777778,
              "#fb9f3a"
             ],
             [
              0.8888888888888888,
              "#fdca26"
             ],
             [
              1,
              "#f0f921"
             ]
            ],
            "type": "histogram2dcontour"
           }
          ],
          "mesh3d": [
           {
            "colorbar": {
             "outlinewidth": 0,
             "ticks": ""
            },
            "type": "mesh3d"
           }
          ],
          "parcoords": [
           {
            "line": {
             "colorbar": {
              "outlinewidth": 0,
              "ticks": ""
             }
            },
            "type": "parcoords"
           }
          ],
          "pie": [
           {
            "automargin": true,
            "type": "pie"
           }
          ],
          "scatter": [
           {
            "marker": {
             "colorbar": {
              "outlinewidth": 0,
              "ticks": ""
             }
            },
            "type": "scatter"
           }
          ],
          "scatter3d": [
           {
            "line": {
             "colorbar": {
              "outlinewidth": 0,
              "ticks": ""
             }
            },
            "marker": {
             "colorbar": {
              "outlinewidth": 0,
              "ticks": ""
             }
            },
            "type": "scatter3d"
           }
          ],
          "scattercarpet": [
           {
            "marker": {
             "colorbar": {
              "outlinewidth": 0,
              "ticks": ""
             }
            },
            "type": "scattercarpet"
           }
          ],
          "scattergeo": [
           {
            "marker": {
             "colorbar": {
              "outlinewidth": 0,
              "ticks": ""
             }
            },
            "type": "scattergeo"
           }
          ],
          "scattergl": [
           {
            "marker": {
             "colorbar": {
              "outlinewidth": 0,
              "ticks": ""
             }
            },
            "type": "scattergl"
           }
          ],
          "scattermapbox": [
           {
            "marker": {
             "colorbar": {
              "outlinewidth": 0,
              "ticks": ""
             }
            },
            "type": "scattermapbox"
           }
          ],
          "scatterpolar": [
           {
            "marker": {
             "colorbar": {
              "outlinewidth": 0,
              "ticks": ""
             }
            },
            "type": "scatterpolar"
           }
          ],
          "scatterpolargl": [
           {
            "marker": {
             "colorbar": {
              "outlinewidth": 0,
              "ticks": ""
             }
            },
            "type": "scatterpolargl"
           }
          ],
          "scatterternary": [
           {
            "marker": {
             "colorbar": {
              "outlinewidth": 0,
              "ticks": ""
             }
            },
            "type": "scatterternary"
           }
          ],
          "surface": [
           {
            "colorbar": {
             "outlinewidth": 0,
             "ticks": ""
            },
            "colorscale": [
             [
              0,
              "#0d0887"
             ],
             [
              0.1111111111111111,
              "#46039f"
             ],
             [
              0.2222222222222222,
              "#7201a8"
             ],
             [
              0.3333333333333333,
              "#9c179e"
             ],
             [
              0.4444444444444444,
              "#bd3786"
             ],
             [
              0.5555555555555556,
              "#d8576b"
             ],
             [
              0.6666666666666666,
              "#ed7953"
             ],
             [
              0.7777777777777778,
              "#fb9f3a"
             ],
             [
              0.8888888888888888,
              "#fdca26"
             ],
             [
              1,
              "#f0f921"
             ]
            ],
            "type": "surface"
           }
          ],
          "table": [
           {
            "cells": {
             "fill": {
              "color": "#EBF0F8"
             },
             "line": {
              "color": "white"
             }
            },
            "header": {
             "fill": {
              "color": "#C8D4E3"
             },
             "line": {
              "color": "white"
             }
            },
            "type": "table"
           }
          ]
         },
         "layout": {
          "annotationdefaults": {
           "arrowcolor": "#2a3f5f",
           "arrowhead": 0,
           "arrowwidth": 1
          },
          "autotypenumbers": "strict",
          "coloraxis": {
           "colorbar": {
            "outlinewidth": 0,
            "ticks": ""
           }
          },
          "colorscale": {
           "diverging": [
            [
             0,
             "#8e0152"
            ],
            [
             0.1,
             "#c51b7d"
            ],
            [
             0.2,
             "#de77ae"
            ],
            [
             0.3,
             "#f1b6da"
            ],
            [
             0.4,
             "#fde0ef"
            ],
            [
             0.5,
             "#f7f7f7"
            ],
            [
             0.6,
             "#e6f5d0"
            ],
            [
             0.7,
             "#b8e186"
            ],
            [
             0.8,
             "#7fbc41"
            ],
            [
             0.9,
             "#4d9221"
            ],
            [
             1,
             "#276419"
            ]
           ],
           "sequential": [
            [
             0,
             "#0d0887"
            ],
            [
             0.1111111111111111,
             "#46039f"
            ],
            [
             0.2222222222222222,
             "#7201a8"
            ],
            [
             0.3333333333333333,
             "#9c179e"
            ],
            [
             0.4444444444444444,
             "#bd3786"
            ],
            [
             0.5555555555555556,
             "#d8576b"
            ],
            [
             0.6666666666666666,
             "#ed7953"
            ],
            [
             0.7777777777777778,
             "#fb9f3a"
            ],
            [
             0.8888888888888888,
             "#fdca26"
            ],
            [
             1,
             "#f0f921"
            ]
           ],
           "sequentialminus": [
            [
             0,
             "#0d0887"
            ],
            [
             0.1111111111111111,
             "#46039f"
            ],
            [
             0.2222222222222222,
             "#7201a8"
            ],
            [
             0.3333333333333333,
             "#9c179e"
            ],
            [
             0.4444444444444444,
             "#bd3786"
            ],
            [
             0.5555555555555556,
             "#d8576b"
            ],
            [
             0.6666666666666666,
             "#ed7953"
            ],
            [
             0.7777777777777778,
             "#fb9f3a"
            ],
            [
             0.8888888888888888,
             "#fdca26"
            ],
            [
             1,
             "#f0f921"
            ]
           ]
          },
          "colorway": [
           "#636efa",
           "#EF553B",
           "#00cc96",
           "#ab63fa",
           "#FFA15A",
           "#19d3f3",
           "#FF6692",
           "#B6E880",
           "#FF97FF",
           "#FECB52"
          ],
          "font": {
           "color": "#2a3f5f"
          },
          "geo": {
           "bgcolor": "white",
           "lakecolor": "white",
           "landcolor": "#E5ECF6",
           "showlakes": true,
           "showland": true,
           "subunitcolor": "white"
          },
          "hoverlabel": {
           "align": "left"
          },
          "hovermode": "closest",
          "mapbox": {
           "style": "light"
          },
          "paper_bgcolor": "white",
          "plot_bgcolor": "#E5ECF6",
          "polar": {
           "angularaxis": {
            "gridcolor": "white",
            "linecolor": "white",
            "ticks": ""
           },
           "bgcolor": "#E5ECF6",
           "radialaxis": {
            "gridcolor": "white",
            "linecolor": "white",
            "ticks": ""
           }
          },
          "scene": {
           "xaxis": {
            "backgroundcolor": "#E5ECF6",
            "gridcolor": "white",
            "gridwidth": 2,
            "linecolor": "white",
            "showbackground": true,
            "ticks": "",
            "zerolinecolor": "white"
           },
           "yaxis": {
            "backgroundcolor": "#E5ECF6",
            "gridcolor": "white",
            "gridwidth": 2,
            "linecolor": "white",
            "showbackground": true,
            "ticks": "",
            "zerolinecolor": "white"
           },
           "zaxis": {
            "backgroundcolor": "#E5ECF6",
            "gridcolor": "white",
            "gridwidth": 2,
            "linecolor": "white",
            "showbackground": true,
            "ticks": "",
            "zerolinecolor": "white"
           }
          },
          "shapedefaults": {
           "line": {
            "color": "#2a3f5f"
           }
          },
          "ternary": {
           "aaxis": {
            "gridcolor": "white",
            "linecolor": "white",
            "ticks": ""
           },
           "baxis": {
            "gridcolor": "white",
            "linecolor": "white",
            "ticks": ""
           },
           "bgcolor": "#E5ECF6",
           "caxis": {
            "gridcolor": "white",
            "linecolor": "white",
            "ticks": ""
           }
          },
          "title": {
           "x": 0.05
          },
          "xaxis": {
           "automargin": true,
           "gridcolor": "white",
           "linecolor": "white",
           "ticks": "",
           "title": {
            "standoff": 15
           },
           "zerolinecolor": "white",
           "zerolinewidth": 2
          },
          "yaxis": {
           "automargin": true,
           "gridcolor": "white",
           "linecolor": "white",
           "ticks": "",
           "title": {
            "standoff": 15
           },
           "zerolinecolor": "white",
           "zerolinewidth": 2
          }
         }
        },
        "xaxis": {
         "anchor": "y",
         "categoryarray": [
          "Bronze",
          "Silver",
          "Gold"
         ],
         "categoryorder": "array",
         "domain": [
          0,
          1
         ],
         "title": {
          "text": "Medal"
         }
        },
        "yaxis": {
         "anchor": "x",
         "domain": [
          0,
          1
         ],
         "title": {
          "text": "%"
         }
        }
       }
      }
     },
     "metadata": {},
     "output_type": "display_data"
    }
   ],
   "source": [
    "import plotly.express as px\n",
    "\n",
    "px.bar(df_med, x='Medal', y='%', color='Medal',\n",
    "       category_orders={\"Medal\": ['Bronze', 'Silver', 'Gold']})"
   ]
  }
 ],
 "metadata": {
  "interpreter": {
   "hash": "7812ea015bdcee6f23a998adcdd2ef97c151c0c241b7b7070987d9313e41299d"
  },
  "kernelspec": {
   "display_name": "Python 3.9.6 64-bit ('3.9')",
   "name": "python3"
  },
  "language_info": {
   "codemirror_mode": {
    "name": "ipython",
    "version": 3
   },
   "file_extension": ".py",
   "mimetype": "text/x-python",
   "name": "python",
   "nbconvert_exporter": "python",
   "pygments_lexer": "ipython3",
   "version": "3.9.6"
  }
 },
 "nbformat": 4,
 "nbformat_minor": 4
}
